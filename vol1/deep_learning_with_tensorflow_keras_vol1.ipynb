{
 "cells": [
  {
   "cell_type": "markdown",
   "metadata": {},
   "source": [
    "### Hintonらのディープビリーフネットワーク(Deep Belief Network, DBN)\n",
    "それまで関心の低かったニューラルネット全般にブレークスルーをもたらした**DBN**  \n",
    "一般的なニューラルネット(入力層、中間層、出力層)に似た多層構造を持つモデルで、その振る舞いは**確率的に**記述され、  \n",
    "主にデータの生成モデルに用いられます。学習の仕方は、一般的なニューラルネットと異なる原理に基づいて行われるものの、多層化していくと  \n",
    "DBNの学習は難しくなっていきます(過学習・過適合、勾配消失問題...etc)"
   ]
  },
  {
   "cell_type": "markdown",
   "metadata": {},
   "source": [
    "### 制約ボルツマンマシン(Re-stricted Boltzmann Machine, RBM)\n",
    "これらの問題をHintonらは、まず層ごとに**制約ボルツマンマシン**と呼ばれる単層ネットワークに分解した上で、**貪欲法(greedy method/algorism)**  \n",
    "の考え方に従って、これらのRMBを入力層に近い側から順番に教師なしで学習していく方法を考えました。  \n",
    "そしてこの方法によって、DBNの学習がうまくいくことを示しました。  \n",
    "  \n",
    "さらには、このRBMを利用したDBNは、**一般的な順伝搬型のニューラルネットに転換することが可能**となり、得られたニューラルネットは、  \n",
    "多層であっても過学習や過適合を起こさずに学習することができました。  \n",
    "事前に学習する前に、各層ごとに最適なパラメータを、程よい初期値を決めておくことを**事前学習(Pre-training)**といいます。"
   ]
  },
  {
   "cell_type": "markdown",
   "metadata": {},
   "source": [
    "### 事前学習に使われる、自己符号化器(Auto-Encoder)\n",
    "DBNやRBMだけでなく、**自己符号化器**を用いることで、多層ネットワークの事前学習ができます。  \n",
    "自己符号化器は、入力に対して計算される出力が、その入力データをよく表す特徴を抽出してくれるニューラルネットです。  \n",
    "目標の出力は入力そのものの表現(特徴抽出)であり、従ってその学習自体は、**教師なし学習**で行われます。  "
   ]
  },
  {
   "cell_type": "markdown",
   "metadata": {},
   "source": [
    "**特徴量の学習**  \n",
    "画像や音声などの自然界のデータは、一般的に高次元かつ大規模な空間を形成していますが、その空間に満遍なく存在しているわけではなく  \n",
    "何かしら偏在しているはずです。(例えば自然風景の画像は、当然白黒の2値画像とは異なり、また森林の画像であれば、緑の色彩に溢れた**偏り**  \n",
    "のある画像になっているはずです)  \n",
    "多層ニューラルネットは、これら偏りのある画像から切り出したパッチ(小領域)の集合を対象に、**スパース符号化**(sparse coding)によって  \n",
    "辞書(基底)の学習を行うこと、これを基本としています。  \n",
    "例えば、[Leeらは、自然画像のパッチを２層以上のネットワーク(RBM)を重ねたもので学習させると、霊長類の視覚視野のV2領域に見られると  \n",
    "される特徴に類似した特徴が得られることが報告](https://core.ac.uk/download/pdf/22879338.pdf)されています。  \n",
    "  \n",
    "また[畳み込みニューラルネットの構造を組み込んだDBNを使い、事物を写した自然画像を学習させると画像の特徴が各層と対応して、階層性を伴う  \n",
    "形で学習されることも報告](http://www.robotics.stanford.edu/~ang/papers/icml09-ConvolutionalDeepBeliefNetworks.pdf)されています。"
   ]
  },
  {
   "cell_type": "markdown",
   "metadata": {},
   "source": [
    "**多層ニューラルネットの有効性**が確かめられ、それまでの深層学習以前の精度を深層学習が向上させ続けた結果、広く認知されました。  \n",
    "ただし、深層学習と一言で言っても、実際にはいくつも異なる方法論があり、問題に応じてそれらを使い分けていくのが一般的です。"
   ]
  },
  {
   "cell_type": "markdown",
   "metadata": {},
   "source": [
    "### 順伝搬型ニューラルネットワーク\n",
    "順伝搬型ニューラルネットワーク(feed forword neural network)は、層状に並べたユニットが隣接層間でのみ結合した構造をもち、  \n",
    "情報(データ)が、入力側から出力側へ**一方向にのみ**伝搬するニューラルネットワークです。  \n",
    "順伝搬型ニューラルネットワークは別名、**多層パーセプトロン**(multi-layer perceptron)と呼ばれます。"
   ]
  },
  {
   "cell_type": "code",
   "execution_count": 2,
   "metadata": {},
   "outputs": [],
   "source": [
    "# -*- coding: utf-8 -*-\n",
    "import numpy as np\n",
    "\n",
    "from keras.datasets import mnist\n",
    "from keras.models import Sequential\n",
    "from keras.layers.core import Dense, Dropout, Activation\n",
    "from keras.utils import np_utils"
   ]
  },
  {
   "cell_type": "code",
   "execution_count": 3,
   "metadata": {},
   "outputs": [],
   "source": [
    "# MNIST データセットを取り込む\n",
    "(X_train, y_train), (X_test, y_test) = mnist.load_data()"
   ]
  },
  {
   "cell_type": "code",
   "execution_count": 4,
   "metadata": {},
   "outputs": [
    {
     "data": {
      "text/plain": [
       "(numpy.ndarray, numpy.ndarray)"
      ]
     },
     "execution_count": 4,
     "metadata": {},
     "output_type": "execute_result"
    }
   ],
   "source": [
    "type(X_train), type(X_test)"
   ]
  },
  {
   "cell_type": "code",
   "execution_count": 5,
   "metadata": {},
   "outputs": [
    {
     "data": {
      "text/plain": [
       "((60000, 28, 28), (10000, 28, 28))"
      ]
     },
     "execution_count": 5,
     "metadata": {},
     "output_type": "execute_result"
    }
   ],
   "source": [
    "# 変換前：28 x 28 の2次元配列 x 60,000\n",
    "X_train.shape, X_test.shape"
   ]
  },
  {
   "cell_type": "code",
   "execution_count": 6,
   "metadata": {},
   "outputs": [
    {
     "data": {
      "text/plain": [
       "((60000,), (10000,))"
      ]
     },
     "execution_count": 6,
     "metadata": {},
     "output_type": "execute_result"
    }
   ],
   "source": [
    "y_train.shape, y_test.shape"
   ]
  },
  {
   "cell_type": "code",
   "execution_count": 7,
   "metadata": {},
   "outputs": [],
   "source": [
    "import matplotlib.pyplot as plt"
   ]
  },
  {
   "cell_type": "code",
   "execution_count": 8,
   "metadata": {},
   "outputs": [
    {
     "data": {
      "text/plain": [
       "<matplotlib.image.AxesImage at 0x13dcf4320>"
      ]
     },
     "execution_count": 8,
     "metadata": {},
     "output_type": "execute_result"
    },
    {
     "data": {
      "image/png": "[encoded data removed]",
      "text/plain": [
       "<Figure size 432x288 with 1 Axes>"
      ]
     },
     "metadata": {
      "needs_background": "light"
     },
     "output_type": "display_data"
    }
   ],
   "source": [
    "# 画像データの可視化\n",
    "# 画像表示の準備\n",
    "fig = plt.figure()\n",
    "ax = fig.add_subplot(111)\n",
    "\n",
    "# 1枚目の画像表示\n",
    "plt.imshow(X_train[0])"
   ]
  },
  {
   "cell_type": "code",
   "execution_count": 9,
   "metadata": {},
   "outputs": [
    {
     "data": {
      "text/plain": [
       "5"
      ]
     },
     "execution_count": 9,
     "metadata": {},
     "output_type": "execute_result"
    }
   ],
   "source": [
    "y_train[0]"
   ]
  },
  {
   "cell_type": "code",
   "execution_count": 10,
   "metadata": {},
   "outputs": [],
   "source": [
    "# 28*28の２次元配列を、784要素の1次元配列に変換する＆256階調を[0, 1]に正規化\n",
    "X_train = X_train.reshape(60000, 784).astype('float32') / 255\n",
    "X_test  = X_test.reshape(10000, 784).astype('float32') / 255"
   ]
  },
  {
   "cell_type": "code",
   "execution_count": 11,
   "metadata": {},
   "outputs": [
    {
     "data": {
      "text/plain": [
       "(numpy.ndarray, numpy.ndarray)"
      ]
     },
     "execution_count": 11,
     "metadata": {},
     "output_type": "execute_result"
    }
   ],
   "source": [
    "type(X_train), type(X_test)"
   ]
  },
  {
   "cell_type": "code",
   "execution_count": 12,
   "metadata": {},
   "outputs": [
    {
     "data": {
      "text/plain": [
       "((60000, 784), (10000, 784))"
      ]
     },
     "execution_count": 12,
     "metadata": {},
     "output_type": "execute_result"
    }
   ],
   "source": [
    "X_train.shape, X_test.shape"
   ]
  },
  {
   "cell_type": "code",
   "execution_count": 13,
   "metadata": {},
   "outputs": [
    {
     "data": {
      "text/plain": [
       "((60000,), (10000,))"
      ]
     },
     "execution_count": 13,
     "metadata": {},
     "output_type": "execute_result"
    }
   ],
   "source": [
    "y_train.shape, y_test.shape"
   ]
  },
  {
   "cell_type": "code",
   "execution_count": 14,
   "metadata": {},
   "outputs": [
    {
     "data": {
      "text/plain": [
       "array([[0., 0., 0., ..., 0., 0., 0.],\n",
       "       [0., 0., 0., ..., 0., 0., 0.],\n",
       "       [0., 0., 0., ..., 0., 0., 0.],\n",
       "       ...,\n",
       "       [0., 0., 0., ..., 0., 0., 0.],\n",
       "       [0., 0., 0., ..., 0., 0., 0.],\n",
       "       [0., 0., 0., ..., 0., 0., 0.]], dtype=float32)"
      ]
     },
     "execution_count": 14,
     "metadata": {},
     "output_type": "execute_result"
    }
   ],
   "source": [
    "X_train"
   ]
  },
  {
   "cell_type": "code",
   "execution_count": 15,
   "metadata": {},
   "outputs": [
    {
     "data": {
      "text/plain": [
       "array([5, 0, 4, ..., 5, 6, 8], dtype=uint8)"
      ]
     },
     "execution_count": 15,
     "metadata": {},
     "output_type": "execute_result"
    }
   ],
   "source": [
    "y_train"
   ]
  },
  {
   "cell_type": "code",
   "execution_count": 16,
   "metadata": {},
   "outputs": [],
   "source": [
    "# 0~9の数字を、10次元で表現する\n",
    "y_train_array = np_utils.to_categorical(y_train, 10)\n",
    "y_test_array  = np_utils.to_categorical(y_test, 10)"
   ]
  },
  {
   "cell_type": "code",
   "execution_count": 17,
   "metadata": {},
   "outputs": [
    {
     "data": {
      "text/plain": [
       "((60000, 10), (10000, 10))"
      ]
     },
     "execution_count": 17,
     "metadata": {},
     "output_type": "execute_result"
    }
   ],
   "source": [
    "y_train_array.shape, y_test_array.shape"
   ]
  },
  {
   "cell_type": "code",
   "execution_count": 18,
   "metadata": {},
   "outputs": [
    {
     "name": "stdout",
     "output_type": "stream",
     "text": [
      "Model: \"sequential_1\"\n",
      "_________________________________________________________________\n",
      "Layer (type)                 Output Shape              Param #   \n",
      "=================================================================\n",
      "dense_1 (Dense)              (None, 512)               401920    \n",
      "_________________________________________________________________\n",
      "activation_1 (Activation)    (None, 512)               0         \n",
      "_________________________________________________________________\n",
      "dense_2 (Dense)              (None, 512)               262656    \n",
      "_________________________________________________________________\n",
      "activation_2 (Activation)    (None, 512)               0         \n",
      "_________________________________________________________________\n",
      "dense_3 (Dense)              (None, 10)                5130      \n",
      "_________________________________________________________________\n",
      "activation_3 (Activation)    (None, 10)                0         \n",
      "=================================================================\n",
      "Total params: 669,706\n",
      "Trainable params: 669,706\n",
      "Non-trainable params: 0\n",
      "_________________________________________________________________\n"
     ]
    }
   ],
   "source": [
    "# モデルの箱(空箱)\n",
    "model_non_drop_out = Sequential()\n",
    "\n",
    "# 入力層\n",
    "# - ノード数：512\n",
    "# - 入力：784次元\n",
    "# - 活性化関数：relu\n",
    "model_non_drop_out.add(Dense(512, input_dim=784))\n",
    "model_non_drop_out.add(Activation('relu'))\n",
    "\n",
    "# 隠れ層\n",
    "# - ノード数：512\n",
    "# - 活性化関数：relu\n",
    "model_non_drop_out.add(Dense(512))\n",
    "model_non_drop_out.add(Activation('relu'))\n",
    "\n",
    "# 出力層\n",
    "# - ノード数：10\n",
    "# - 活性化関数：softmax\n",
    "model_non_drop_out.add(Dense(10))\n",
    "model_non_drop_out.add(Activation('softmax'))\n",
    "\n",
    "# モデルの要約を出力\n",
    "model_non_drop_out.summary()"
   ]
  },
  {
   "cell_type": "markdown",
   "metadata": {},
   "source": [
    "**ソフトマックス関数**  \n",
    "ソフトマックス関数は多くの場合、出力層でのみ使用されますが、RBFネットワークでは中間層にも適用されます。  \n",
    "シグモイド関数がある一つの値(実数値)の入力に対して出力を行った関数であるのに対して、ソフトマックス関数は  \n",
    "複数値(多値問題で使いやすい)からなるベクトルを入力し、それを正規化したベクトルを出力します。"
   ]
  },
  {
   "cell_type": "code",
   "execution_count": 19,
   "metadata": {},
   "outputs": [],
   "source": [
    "# 学習過程の設定\n",
    "# - 目的関数：categorical_crossentropy\n",
    "# - 最適化アルゴリズム：rmsprop\n",
    "model_non_drop_out.compile(loss='categorical_crossentropy',\n",
    "                           optimizer='rmsprop',\n",
    "                           metrics=['accuracy'])"
   ]
  },
  {
   "cell_type": "code",
   "execution_count": 21,
   "metadata": {
    "scrolled": true
   },
   "outputs": [
    {
     "name": "stdout",
     "output_type": "stream",
     "text": [
      "Train on 60000 samples, validate on 10000 samples\n",
      "Epoch 1/20\n",
      "60000/60000 [==============================] - 7s 115us/step - loss: 0.0715 - accuracy: 0.9777 - val_loss: 0.0719 - val_accuracy: 0.9784\n",
      "Epoch 2/20\n",
      "60000/60000 [==============================] - 7s 118us/step - loss: 0.0488 - accuracy: 0.9851 - val_loss: 0.0737 - val_accuracy: 0.9794\n",
      "Epoch 3/20\n",
      "60000/60000 [==============================] - 7s 114us/step - loss: 0.0358 - accuracy: 0.9889 - val_loss: 0.0821 - val_accuracy: 0.9790\n",
      "Epoch 4/20\n",
      "60000/60000 [==============================] - 7s 114us/step - loss: 0.0269 - accuracy: 0.9915 - val_loss: 0.0855 - val_accuracy: 0.9790\n",
      "Epoch 5/20\n",
      "60000/60000 [==============================] - 7s 113us/step - loss: 0.0219 - accuracy: 0.9934 - val_loss: 0.0937 - val_accuracy: 0.9802\n",
      "Epoch 6/20\n",
      "60000/60000 [==============================] - 7s 112us/step - loss: 0.0177 - accuracy: 0.9947 - val_loss: 0.0810 - val_accuracy: 0.9812\n",
      "Epoch 7/20\n",
      "60000/60000 [==============================] - 7s 115us/step - loss: 0.0151 - accuracy: 0.9952 - val_loss: 0.0844 - val_accuracy: 0.9837\n",
      "Epoch 8/20\n",
      "60000/60000 [==============================] - 7s 114us/step - loss: 0.0126 - accuracy: 0.9960 - val_loss: 0.1234 - val_accuracy: 0.9799\n",
      "Epoch 9/20\n",
      "60000/60000 [==============================] - 7s 117us/step - loss: 0.0118 - accuracy: 0.9966 - val_loss: 0.0965 - val_accuracy: 0.9824\n",
      "Epoch 10/20\n",
      "60000/60000 [==============================] - 7s 116us/step - loss: 0.0081 - accuracy: 0.9976 - val_loss: 0.1406 - val_accuracy: 0.9800\n",
      "Epoch 11/20\n",
      "60000/60000 [==============================] - 7s 118us/step - loss: 0.0089 - accuracy: 0.9974 - val_loss: 0.1366 - val_accuracy: 0.9812\n",
      "Epoch 12/20\n",
      "60000/60000 [==============================] - 7s 124us/step - loss: 0.0095 - accuracy: 0.9972 - val_loss: 0.1136 - val_accuracy: 0.9835\n",
      "Epoch 13/20\n",
      "60000/60000 [==============================] - 7s 116us/step - loss: 0.0075 - accuracy: 0.9977 - val_loss: 0.1616 - val_accuracy: 0.9792\n",
      "Epoch 14/20\n",
      "60000/60000 [==============================] - 7s 114us/step - loss: 0.0073 - accuracy: 0.9980 - val_loss: 0.1140 - val_accuracy: 0.9840\n",
      "Epoch 15/20\n",
      "60000/60000 [==============================] - 7s 114us/step - loss: 0.0057 - accuracy: 0.9983 - val_loss: 0.1539 - val_accuracy: 0.9821\n",
      "Epoch 16/20\n",
      "60000/60000 [==============================] - 7s 116us/step - loss: 0.0062 - accuracy: 0.9983 - val_loss: 0.1577 - val_accuracy: 0.9827\n",
      "Epoch 17/20\n",
      "60000/60000 [==============================] - 7s 115us/step - loss: 0.0049 - accuracy: 0.9987 - val_loss: 0.1556 - val_accuracy: 0.9816\n",
      "Epoch 18/20\n",
      "60000/60000 [==============================] - 7s 119us/step - loss: 0.0049 - accuracy: 0.9987 - val_loss: 0.1748 - val_accuracy: 0.9814\n",
      "Epoch 19/20\n",
      "60000/60000 [==============================] - 8s 140us/step - loss: 0.0049 - accuracy: 0.9988 - val_loss: 0.1665 - val_accuracy: 0.9833\n",
      "Epoch 20/20\n",
      "60000/60000 [==============================] - 7s 118us/step - loss: 0.0059 - accuracy: 0.9986 - val_loss: 0.2023 - val_accuracy: 0.9801\n"
     ]
    },
    {
     "data": {
      "text/plain": [
       "<keras.callbacks.callbacks.History at 0x13df98898>"
      ]
     },
     "execution_count": 21,
     "metadata": {},
     "output_type": "execute_result"
    }
   ],
   "source": [
    "# 学習\n",
    "# - バッチサイズ：128\n",
    "# - 学習の繰り返し回数：20\n",
    "model_non_drop_out.fit(X_train, y_train_array,\n",
    "                       batch_size=128,\n",
    "                       epochs=20,\n",
    "                       verbose=1,\n",
    "                       validation_data=(X_test, y_test_array))"
   ]
  },
  {
   "cell_type": "code",
   "execution_count": 22,
   "metadata": {},
   "outputs": [
    {
     "name": "stdout",
     "output_type": "stream",
     "text": [
      "Test loss : 0.20233450886981968\n",
      "Test accuracy : 0.9800999760627747\n"
     ]
    }
   ],
   "source": [
    "# 評価\n",
    "score = model_non_drop_out.evaluate(X_test, y_test_array, verbose=0)\n",
    "print('Test loss :', score[0])\n",
    "print('Test accuracy :', score[1])"
   ]
  }
 ],
 "metadata": {
  "kernelspec": {
   "display_name": "Python 3",
   "language": "python",
   "name": "python3"
  },
  "language_info": {
   "codemirror_mode": {
    "name": "ipython",
    "version": 3
   },
   "file_extension": ".py",
   "mimetype": "text/x-python",
   "name": "python",
   "nbconvert_exporter": "python",
   "pygments_lexer": "ipython3",
   "version": "3.6.5"
  }
 },
 "nbformat": 4,
 "nbformat_minor": 2
}
