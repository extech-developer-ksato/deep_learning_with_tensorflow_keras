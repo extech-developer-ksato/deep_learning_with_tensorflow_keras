{
 "cells": [
  {
   "cell_type": "markdown",
   "metadata": {},
   "source": [
    "## MNISTデータセットをベースに、データを追加してCNNをやってみる"
   ]
  },
  {
   "cell_type": "code",
   "execution_count": 1,
   "metadata": {},
   "outputs": [],
   "source": [
    "import os"
   ]
  },
  {
   "cell_type": "code",
   "execution_count": 2,
   "metadata": {},
   "outputs": [],
   "source": [
    "import cv2\n",
    "import numpy as np\n",
    "import matplotlib.pyplot as plt"
   ]
  },
  {
   "cell_type": "markdown",
   "metadata": {},
   "source": [
    "**オリジナルの関数をインポート**"
   ]
  },
  {
   "cell_type": "code",
   "execution_count": 3,
   "metadata": {},
   "outputs": [],
   "source": [
    "import examTools"
   ]
  },
  {
   "cell_type": "markdown",
   "metadata": {},
   "source": [
    "### 追加するオリジナル画像(この場合は、\",\"(カンマ))の取得"
   ]
  },
  {
   "cell_type": "code",
   "execution_count": 4,
   "metadata": {},
   "outputs": [],
   "source": [
    "import pickle"
   ]
  },
  {
   "cell_type": "markdown",
   "metadata": {},
   "source": [
    "**事前に用意した、\",\"のデータセット**"
   ]
  },
  {
   "cell_type": "code",
   "execution_count": 5,
   "metadata": {},
   "outputs": [],
   "source": [
    "f = open(f'./DATA/0x002c.txt',\"rb\")\n",
    "test_data= pickle.load(f)"
   ]
  },
  {
   "cell_type": "markdown",
   "metadata": {},
   "source": [
    "**8,000枚＆76×72ピクセルの画像**"
   ]
  },
  {
   "cell_type": "code",
   "execution_count": 6,
   "metadata": {},
   "outputs": [
    {
     "data": {
      "text/plain": [
       "(8000, (76, 72))"
      ]
     },
     "execution_count": 6,
     "metadata": {},
     "output_type": "execute_result"
    }
   ],
   "source": [
    "len(test_data), test_data[0][0].shape"
   ]
  },
  {
   "cell_type": "markdown",
   "metadata": {},
   "source": [
    "**MNISTデータセットに合わせるために、下処理**  \n",
    "画像データのRGB値が反転してしまっているため  \n",
    "処理に時間がかかるため、注意してください(おおよそ10分くらい)"
   ]
  },
  {
   "cell_type": "code",
   "execution_count": 7,
   "metadata": {},
   "outputs": [],
   "source": [
    "counter = 0\n",
    "for array in test_data:\n",
    "    count = 0\n",
    "    for i in array[0]:\n",
    "        num = 0\n",
    "        for j in i:\n",
    "            test_data[counter][0][count][num] = int(255) - int(j)\n",
    "            num += 1\n",
    "        count += 1\n",
    "    counter += 1"
   ]
  },
  {
   "cell_type": "code",
   "execution_count": 171,
   "metadata": {},
   "outputs": [],
   "source": [
    "count = 0\n",
    "for i in test_data[0][0]:\n",
    "    num = 0\n",
    "    for j in i:\n",
    "        test_data[0][0][count][num] = int(255) - int(j)\n",
    "        num += 1\n",
    "    count += 1"
   ]
  },
  {
   "cell_type": "markdown",
   "metadata": {},
   "source": [
    "**下処理後の画像データ**"
   ]
  },
  {
   "cell_type": "code",
   "execution_count": 173,
   "metadata": {},
   "outputs": [
    {
     "data": {
      "text/plain": [
       "<matplotlib.image.AxesImage at 0x1470ff7f0>"
      ]
     },
     "execution_count": 173,
     "metadata": {},
     "output_type": "execute_result"
    },
    {
     "data": {
      "image/png": "[encoded data removed]",
      "text/plain": [
       "<Figure size 432x288 with 1 Axes>"
      ]
     },
     "metadata": {
      "needs_background": "light"
     },
     "output_type": "display_data"
    }
   ],
   "source": [
    "fig = plt.figure()\n",
    "ax = fig.add_subplot(111)\n",
    "# 1枚目の画像表示\n",
    "plt.imshow(test_data[1][0].astype('float32') / 255)"
   ]
  },
  {
   "cell_type": "code",
   "execution_count": 149,
   "metadata": {},
   "outputs": [],
   "source": [
    "test = test_data"
   ]
  },
  {
   "cell_type": "code",
   "execution_count": 150,
   "metadata": {},
   "outputs": [],
   "source": [
    "count = 0\n",
    "for i in test[0][0]:\n",
    "    num = 0\n",
    "    for j in i:\n",
    "        test[0][0][count][num] = int(255) - int(j)\n",
    "        num += 1\n",
    "    count += 1"
   ]
  },
  {
   "cell_type": "markdown",
   "metadata": {},
   "source": [
    "**MNISTデータセットの画像サイズ 28×28に合わせるため、リサイズ**"
   ]
  },
  {
   "cell_type": "code",
   "execution_count": 152,
   "metadata": {},
   "outputs": [],
   "source": [
    "img_resize = cv2.resize(test[0][0], (int(28), int(28)))"
   ]
  },
  {
   "cell_type": "markdown",
   "metadata": {},
   "source": [
    "### \",\"を追加した判別モデルを作成する"
   ]
  },
  {
   "cell_type": "code",
   "execution_count": 9,
   "metadata": {},
   "outputs": [],
   "source": [
    "from keras.models import Sequential\n",
    "from keras.layers import Dense, Dropout, Flatten\n",
    "from keras.layers import Conv2D, MaxPooling2D\n",
    "from keras.layers.core import Activation"
   ]
  },
  {
   "cell_type": "code",
   "execution_count": 10,
   "metadata": {},
   "outputs": [],
   "source": [
    "from keras.datasets import mnist\n",
    "from keras import optimizers"
   ]
  },
  {
   "cell_type": "code",
   "execution_count": 11,
   "metadata": {},
   "outputs": [],
   "source": [
    "from keras.optimizers import RMSprop"
   ]
  },
  {
   "cell_type": "code",
   "execution_count": 12,
   "metadata": {},
   "outputs": [],
   "source": [
    "from keras.utils import np_utils"
   ]
  },
  {
   "cell_type": "markdown",
   "metadata": {},
   "source": [
    "**ベースとなるMNISTデータセットの読み込み**"
   ]
  },
  {
   "cell_type": "code",
   "execution_count": 202,
   "metadata": {},
   "outputs": [
    {
     "data": {
      "text/plain": [
       "((60000, 28, 28), (10000, 28, 28))"
      ]
     },
     "execution_count": 202,
     "metadata": {},
     "output_type": "execute_result"
    }
   ],
   "source": [
    "# MNIST データセットを取り込む\n",
    "(X_train, y_train), (X_test, y_test) = mnist.load_data()\n",
    "# 変換前：28 x 28 の2次元配列 x 60,000\n",
    "X_train.shape, X_test.shape"
   ]
  },
  {
   "cell_type": "code",
   "execution_count": 187,
   "metadata": {},
   "outputs": [
    {
     "data": {
      "text/plain": [
       "<matplotlib.image.AxesImage at 0x146291550>"
      ]
     },
     "execution_count": 187,
     "metadata": {},
     "output_type": "execute_result"
    },
    {
     "data": {
      "image/png": "[encoded data removed]",
      "text/plain": [
       "<Figure size 432x288 with 1 Axes>"
      ]
     },
     "metadata": {
      "needs_background": "light"
     },
     "output_type": "display_data"
    }
   ],
   "source": [
    "fig = plt.figure()\n",
    "ax = fig.add_subplot(111)\n",
    "# 1枚目の画像表示\n",
    "plt.imshow(X_train[60002])"
   ]
  },
  {
   "cell_type": "markdown",
   "metadata": {},
   "source": [
    "**'カンマ'画像の6500枚を訓練用データ、1500枚を検証用データにする**  \n",
    "それらを、MNISTデータセットから取得した訓練用データと検証用データそれぞれに追加する"
   ]
  },
  {
   "cell_type": "code",
   "execution_count": 207,
   "metadata": {},
   "outputs": [],
   "source": [
    "for array in test_data[:6500]:\n",
    "    img_resize = cv2.resize(array[0], (int(28), int(28)))\n",
    "    X_train = np.append(X_train, img_resize.reshape(1, img_resize.shape[0], img_resize.shape[1]), axis=0)"
   ]
  },
  {
   "cell_type": "code",
   "execution_count": 206,
   "metadata": {
    "scrolled": true
   },
   "outputs": [],
   "source": [
    "for array in test_data[6500:]:\n",
    "    img_resize = cv2.resize(array[0], (int(28), int(28)))\n",
    "    X_test = np.append(X_test, img_resize.reshape(1, img_resize.shape[0], img_resize.shape[1]), axis=0)"
   ]
  },
  {
   "cell_type": "code",
   "execution_count": 208,
   "metadata": {},
   "outputs": [
    {
     "data": {
      "text/plain": [
       "((66500, 28, 28), (11500, 28, 28))"
      ]
     },
     "execution_count": 208,
     "metadata": {},
     "output_type": "execute_result"
    }
   ],
   "source": [
    "X_train.shape, X_test.shape"
   ]
  },
  {
   "cell_type": "markdown",
   "metadata": {},
   "source": [
    "**正解ラベルの追加も行う**"
   ]
  },
  {
   "cell_type": "code",
   "execution_count": 15,
   "metadata": {},
   "outputs": [],
   "source": [
    "(X_tr, y_train), (X_te, y_test) = mnist.load_data()"
   ]
  },
  {
   "cell_type": "code",
   "execution_count": 16,
   "metadata": {},
   "outputs": [],
   "source": [
    "### ',' = 10\n",
    "mark = np.array([10])"
   ]
  },
  {
   "cell_type": "code",
   "execution_count": 17,
   "metadata": {},
   "outputs": [],
   "source": [
    "for i in range(6500):\n",
    "    y_train = np.append(y_train, mark)"
   ]
  },
  {
   "cell_type": "code",
   "execution_count": 18,
   "metadata": {},
   "outputs": [],
   "source": [
    "for i in range(1500):\n",
    "    y_test = np.append(y_test, mark)"
   ]
  },
  {
   "cell_type": "code",
   "execution_count": 239,
   "metadata": {},
   "outputs": [
    {
     "data": {
      "text/plain": [
       "((66500,), (11500,))"
      ]
     },
     "execution_count": 239,
     "metadata": {},
     "output_type": "execute_result"
    }
   ],
   "source": [
    "y_train.shape, y_test.shape"
   ]
  },
  {
   "cell_type": "markdown",
   "metadata": {},
   "source": [
    "**1次元の正解ラベルを、One-Hot ベクトル化する**"
   ]
  },
  {
   "cell_type": "code",
   "execution_count": 19,
   "metadata": {},
   "outputs": [],
   "source": [
    "y_train_array = np_utils.to_categorical(y_train, 11)\n",
    "y_test_array  = np_utils.to_categorical(y_test, 11)"
   ]
  },
  {
   "cell_type": "markdown",
   "metadata": {},
   "source": [
    "**機械学習用データに、ReShape**"
   ]
  },
  {
   "cell_type": "code",
   "execution_count": 220,
   "metadata": {},
   "outputs": [],
   "source": [
    "x_train_re = X_train.reshape(len(X_train), X_train.shape[1], X_train.shape[2], 1).astype('float32') / 255\n",
    "x_test_re = X_test.reshape(len(X_test), X_test.shape[1], X_test.shape[2], 1).astype('float32') / 255"
   ]
  },
  {
   "cell_type": "markdown",
   "metadata": {},
   "source": [
    "**モデル構築**"
   ]
  },
  {
   "cell_type": "code",
   "execution_count": 10,
   "metadata": {},
   "outputs": [],
   "source": [
    "model_C = Sequential()\n",
    "model_C.add(Conv2D(32, kernel_size=(3, 3), activation='relu', input_shape=(28, 28, 1)))\n",
    "model_C.add(Conv2D(64, (3, 3), activation='relu'))\n",
    "model_C.add(MaxPooling2D(pool_size=(2, 2)))\n",
    "model_C.add(Dropout(0.25))\n",
    "model_C.add(Flatten())\n",
    "model_C.add(Dense(128, activation='relu'))\n",
    "model_C.add(Dropout(0.5))\n",
    "model_C.add(Dense(11, activation='softmax'))"
   ]
  },
  {
   "cell_type": "code",
   "execution_count": 11,
   "metadata": {},
   "outputs": [],
   "source": [
    "model_C.compile(loss='categorical_crossentropy',\n",
    "                  optimizer=RMSprop(),\n",
    "                  metrics=['accuracy'])"
   ]
  },
  {
   "cell_type": "code",
   "execution_count": 249,
   "metadata": {
    "scrolled": true
   },
   "outputs": [
    {
     "name": "stdout",
     "output_type": "stream",
     "text": [
      "Train on 66500 samples, validate on 11500 samples\n",
      "Epoch 1/20\n",
      "66500/66500 [==============================] - 123s 2ms/step - loss: 0.2183 - accuracy: 0.9349 - val_loss: 0.0471 - val_accuracy: 0.9847\n",
      "Epoch 2/20\n",
      "66500/66500 [==============================] - 120s 2ms/step - loss: 0.0762 - accuracy: 0.9778 - val_loss: 0.0334 - val_accuracy: 0.9891\n",
      "Epoch 3/20\n",
      "66500/66500 [==============================] - 113s 2ms/step - loss: 0.0595 - accuracy: 0.9829 - val_loss: 0.0296 - val_accuracy: 0.9895\n",
      "Epoch 4/20\n",
      "66500/66500 [==============================] - 114s 2ms/step - loss: 0.0490 - accuracy: 0.9862 - val_loss: 0.0382 - val_accuracy: 0.9866\n",
      "Epoch 5/20\n",
      "66500/66500 [==============================] - 114s 2ms/step - loss: 0.0460 - accuracy: 0.9867 - val_loss: 0.0304 - val_accuracy: 0.9897\n",
      "Epoch 6/20\n",
      "66500/66500 [==============================] - 112s 2ms/step - loss: 0.0429 - accuracy: 0.9879 - val_loss: 0.0350 - val_accuracy: 0.9893\n",
      "Epoch 7/20\n",
      "66500/66500 [==============================] - 112s 2ms/step - loss: 0.0434 - accuracy: 0.9879 - val_loss: 0.0305 - val_accuracy: 0.9916\n",
      "Epoch 8/20\n",
      "66500/66500 [==============================] - 111s 2ms/step - loss: 0.0437 - accuracy: 0.9880 - val_loss: 0.0312 - val_accuracy: 0.9901\n",
      "Epoch 9/20\n",
      "66500/66500 [==============================] - 113s 2ms/step - loss: 0.0449 - accuracy: 0.9875 - val_loss: 0.0339 - val_accuracy: 0.9915\n",
      "Epoch 10/20\n",
      "66500/66500 [==============================] - 112s 2ms/step - loss: 0.0498 - accuracy: 0.9874 - val_loss: 0.0291 - val_accuracy: 0.9913\n",
      "Epoch 11/20\n",
      "66500/66500 [==============================] - 114s 2ms/step - loss: 0.0469 - accuracy: 0.9876 - val_loss: 0.0317 - val_accuracy: 0.9915\n",
      "Epoch 12/20\n",
      "66500/66500 [==============================] - 116s 2ms/step - loss: 0.0507 - accuracy: 0.9866 - val_loss: 0.0306 - val_accuracy: 0.9916\n",
      "Epoch 13/20\n",
      "66500/66500 [==============================] - 115s 2ms/step - loss: 0.0503 - accuracy: 0.9869 - val_loss: 0.0319 - val_accuracy: 0.9899\n",
      "Epoch 14/20\n",
      "66500/66500 [==============================] - 115s 2ms/step - loss: 0.0504 - accuracy: 0.9868 - val_loss: 0.0356 - val_accuracy: 0.9904\n",
      "Epoch 15/20\n",
      "66500/66500 [==============================] - 115s 2ms/step - loss: 0.0527 - accuracy: 0.9865 - val_loss: 0.0347 - val_accuracy: 0.9909\n",
      "Epoch 16/20\n",
      "66500/66500 [==============================] - 114s 2ms/step - loss: 0.0550 - accuracy: 0.9868 - val_loss: 0.0382 - val_accuracy: 0.9907\n",
      "Epoch 17/20\n",
      "66500/66500 [==============================] - 115s 2ms/step - loss: 0.0505 - accuracy: 0.9874 - val_loss: 0.0351 - val_accuracy: 0.9913\n",
      "Epoch 18/20\n",
      "66500/66500 [==============================] - 113s 2ms/step - loss: 0.0634 - accuracy: 0.9864 - val_loss: 0.0342 - val_accuracy: 0.9922\n",
      "Epoch 19/20\n",
      "66500/66500 [==============================] - 113s 2ms/step - loss: 0.0567 - accuracy: 0.9870 - val_loss: 0.0398 - val_accuracy: 0.9896\n",
      "Epoch 20/20\n",
      "66500/66500 [==============================] - 114s 2ms/step - loss: 0.0552 - accuracy: 0.9865 - val_loss: 0.0305 - val_accuracy: 0.9915\n"
     ]
    }
   ],
   "source": [
    "# 学習\n",
    "# - バッチサイズ：128\n",
    "# - 学習の繰り返し回数：20\n",
    "his = model_C.fit(x_train_re, y_train_array,\n",
    "                  batch_size=128,\n",
    "                  epochs=20,\n",
    "                  verbose=1,\n",
    "                  shuffle=True,\n",
    "                  validation_data=(x_test_re, y_test_array))"
   ]
  },
  {
   "cell_type": "code",
   "execution_count": 251,
   "metadata": {},
   "outputs": [],
   "source": [
    "json_string = model_C.to_json()\n",
    "with open('./parameter/cnn_model_20210115.json', 'w') as file:\n",
    "    json.dump(json_string, file, indent=4)"
   ]
  },
  {
   "cell_type": "code",
   "execution_count": 252,
   "metadata": {},
   "outputs": [],
   "source": [
    "model_C.save_weights('./parameter/cnn_model_20210115.hdf5')"
   ]
  },
  {
   "cell_type": "code",
   "execution_count": 253,
   "metadata": {},
   "outputs": [],
   "source": [
    "def plot_history(history):\n",
    "    # print(history.history.keys())\n",
    "\n",
    "    # 損失の履歴をプロット\n",
    "    plt.plot(history.history['loss'])\n",
    "    plt.plot(history.history['val_loss'])\n",
    "    plt.title('model loss')\n",
    "    plt.xlabel('epoch')\n",
    "    plt.ylabel('loss')\n",
    "    plt.legend(['loss', 'val_loss'], loc='lower right')\n",
    "    plt.show()"
   ]
  },
  {
   "cell_type": "code",
   "execution_count": 255,
   "metadata": {},
   "outputs": [
    {
     "data": {
      "image/png": "[encoded data removed]",
      "text/plain": [
       "<Figure size 432x288 with 1 Axes>"
      ]
     },
     "metadata": {
      "needs_background": "light"
     },
     "output_type": "display_data"
    }
   ],
   "source": [
    "plot_history(his)"
   ]
  },
  {
   "cell_type": "code",
   "execution_count": 258,
   "metadata": {},
   "outputs": [
    {
     "name": "stdout",
     "output_type": "stream",
     "text": [
      "Test loss: 0.030514077870541792\n",
      "Test accuracy: 0.9914782643318176\n"
     ]
    }
   ],
   "source": [
    "score = model_C.evaluate(x_test_re, y_test_array, verbose=0)\n",
    "print('Test loss:', score[0])\n",
    "print('Test accuracy:', score[1])"
   ]
  },
  {
   "cell_type": "markdown",
   "metadata": {},
   "source": [
    "### モデルの読み込み"
   ]
  },
  {
   "cell_type": "code",
   "execution_count": 9,
   "metadata": {},
   "outputs": [],
   "source": [
    "model = Sequential()\n",
    "model.add(Conv2D(32, kernel_size=(3, 3), activation='relu', input_shape=(28, 28, 1)))\n",
    "model.add(Conv2D(64, (3, 3), activation='relu'))\n",
    "model.add(MaxPooling2D(pool_size=(2, 2)))\n",
    "model.add(Dropout(0.25))\n",
    "model.add(Flatten())\n",
    "model.add(Dense(128, activation='relu'))\n",
    "model.add(Dropout(0.5))\n",
    "model.add(Dense(11, activation='softmax'))\n",
    "\n",
    "model.compile(loss='categorical_crossentropy',\n",
    "              optimizer=RMSprop(),\n",
    "              metrics=['accuracy'])"
   ]
  },
  {
   "cell_type": "code",
   "execution_count": 10,
   "metadata": {},
   "outputs": [],
   "source": [
    "model.load_weights('/Users/Toki/tmp/virus_spreading_vis/Model/parameter/cnn_model_20210115.hdf5')"
   ]
  },
  {
   "cell_type": "code",
   "execution_count": 36,
   "metadata": {},
   "outputs": [
    {
     "data": {
      "image/png": "[encoded data removed]",
      "text/plain": [
       "<IPython.core.display.Image object>"
      ]
     },
     "execution_count": 36,
     "metadata": {},
     "output_type": "execute_result"
    }
   ],
   "source": [
    "from keras.utils.vis_utils import plot_model\n",
    "plot_model(model, to_file=\"model.png\", show_shapes=True)"
   ]
  },
  {
   "cell_type": "markdown",
   "metadata": {},
   "source": [
    "### 対象の画像イメージから、文字認識をする簡単なエンジン例"
   ]
  },
  {
   "cell_type": "code",
   "execution_count": 14,
   "metadata": {},
   "outputs": [],
   "source": [
    "from PIL import Image"
   ]
  },
  {
   "cell_type": "code",
   "execution_count": 11,
   "metadata": {},
   "outputs": [],
   "source": [
    "image = cv2.imread(\"image.jpg\")"
   ]
  },
  {
   "cell_type": "markdown",
   "metadata": {},
   "source": [
    "**自前の関数の詳細説明は割愛**  \n",
    "こんなこともできるよ、という参考例です"
   ]
  },
  {
   "cell_type": "code",
   "execution_count": 22,
   "metadata": {},
   "outputs": [],
   "source": [
    "def engine(image, model=model):\n",
    "    \n",
    "    # オリジナル画像を、グレイスケールへの変換\n",
    "    gray_img = cv2.cvtColor(image, cv2.COLOR_RGB2GRAY)\n",
    "\n",
    "    # 白 or 黒 のラインを対象にオリジナル画像から\"区切り\"を類推\n",
    "    ret, bw_img = cv2.threshold(gray_img, 0, 255, cv2.THRESH_OTSU)\n",
    "    height, width = bw_img.shape\n",
    "\n",
    "    # 水平方向、垂直方向のarray配列を取得\n",
    "    array_H = examTools.Projection_H(bw_img, height, width)\n",
    "    array_V = examTools.Projection_V(bw_img, height, width)\n",
    "\n",
    "    # 高さ方向から見たときの、文字部分の境界を抽出\n",
    "    H_THRESH = 5\n",
    "    lower_posi, upper_posi = examTools.Detect_HeightPosition(H_THRESH, height, array_H)\n",
    "\n",
    "    # 幅方向から見たときの、文字部分の境界を抽出\n",
    "    W_THRESH = 2\n",
    "    char_List = examTools.Detect_WidthPosition(W_THRESH, width, array_V)\n",
    "\n",
    "    # 初期設定\n",
    "    cha = \"\"\n",
    "    counter = 0\n",
    "    \n",
    "    # 読み込んだオリジナルの画像イメージから文字部分の境界を正しく選択できた場合\n",
    "    if (len(char_List) % 2) == 0:\n",
    "        \n",
    "        # オリジナル画像から、一つ一つの文字を抽出＆画像イメージを保存しつつ、予測処理\n",
    "        for num in range(0, (len(char_List)-1), 2):\n",
    "            \n",
    "            \n",
    "            obj_img = image[int(lower_posi)-2:int(upper_posi)+2, int(char_List[num])-2:int(char_List[num+1])+2]\n",
    "    \n",
    "            counter += 1\n",
    "            cv2.imwrite(f\"./picture/test{counter}.jpg\", obj_img)\n",
    "            \n",
    "            # 保存された画像イメージを開く\n",
    "            im  = Image.open(f\"./picture/test{counter}.jpg\")\n",
    "            \n",
    "            # イメージに余白を追加する\n",
    "            # 余白のサイズによって、予測精度に影響あり\n",
    "            im_new = examTools.add_margin(im, 12, 20, 12, 20, (255, 255, 255))\n",
    "            \n",
    "            # 余白追加したイメージを保存\n",
    "            cv2.imwrite(f\"./picture/test_add_space{counter}.jpg\", np.array(im_new))\n",
    "            \n",
    "            # 余白追加したイメージを開き、構築済モデルに適用するために、画像配列をReShape(再生成)する\n",
    "            img2 = cv2.imread(f\"./picture/test_add_space{counter}.jpg\")\n",
    "            img_resize = cv2.resize(img2, (int(28), int(28)))\n",
    "\n",
    "            gray = cv2.cvtColor(img_resize, cv2.COLOR_BGR2GRAY)\n",
    "            image2 = cv2.bitwise_not(gray)\n",
    "            \n",
    "            # 正規化しつつ、予測する\n",
    "            pred = model.predict(image2.reshape(1, 28, 28, 1).astype('float32') / 255)\n",
    "            \n",
    "            # \"信頼度 80%より大きいもの\"を信頼する\n",
    "            try:\n",
    "                if np.where(pred[0] > 0.8)[0][0] == 10:\n",
    "                    cha += str(',')\n",
    "                else:\n",
    "                    cha += str(np.where(pred[0] > 0.8)[0][0])\n",
    "                        \n",
    "            # 信頼できない予測結果は、\"?\"で返す\n",
    "            except:\n",
    "                cha += '?'\n",
    "            \n",
    "            cv2.imwrite(f\"./picture/new_test{counter}.jpg\", np.array(image2))\n",
    "            \n",
    "    # 読み込んだオリジナルの画像イメージから文字部分の境界を正しく選択できなかった場合\n",
    "    else:\n",
    "        print(\"Failed to detect characters\")\n",
    "\n",
    "    print(f'{cha}')"
   ]
  },
  {
   "cell_type": "code",
   "execution_count": 23,
   "metadata": {},
   "outputs": [
    {
     "name": "stdout",
     "output_type": "stream",
     "text": [
      "25,973\n"
     ]
    }
   ],
   "source": [
    "engine(image)"
   ]
  }
 ],
 "metadata": {
  "kernelspec": {
   "display_name": "Python 3",
   "language": "python",
   "name": "python3"
  },
  "language_info": {
   "codemirror_mode": {
    "name": "ipython",
    "version": 3
   },
   "file_extension": ".py",
   "mimetype": "text/x-python",
   "name": "python",
   "nbconvert_exporter": "python",
   "pygments_lexer": "ipython3",
   "version": "3.6.5"
  }
 },
 "nbformat": 4,
 "nbformat_minor": 2
}
