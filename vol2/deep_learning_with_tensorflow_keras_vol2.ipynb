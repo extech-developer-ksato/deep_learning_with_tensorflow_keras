{
 "cells": [
  {
   "cell_type": "markdown",
   "metadata": {},
   "source": [
    "### 勾配降下法\n",
    "与えられた訓練データ  \n",
    "  \n",
    "$$\n",
    "D = \\{ (x_{1}, d_{1}), (x_{2}, d_{2}), ... ,  (x_{N}, d_{N})  \\}\n",
    "$$\n",
    "  \n",
    "を用いて計算された誤差関数 $E(w)$について、ネットワークのパラメータ(重みとバイアス)$w$について最小化することが、  \n",
    "順伝搬型ニューラルネットの学習の目的になります。  \n",
    "  \n",
    "つまり、一般的には下記の誤差関数を扱うことになります。  \n",
    "  \n",
    "$$\n",
    "E(w)=\\frac{1}{2}\\sum_{n=1}^{N}\\parallel d_{n} - y(x_{n}, w) \\parallel ^{2}\n",
    "$$\n",
    "  \n",
    "多値分類(多クラス分類問題)についての誤差関数については下記のようになります。  \n",
    "  \n",
    "$$\n",
    "E(w)=-\\sum_{k=1}^{N}\\sum_{k=1}^{K} d_{nk} \\log y_{k}(x_{n}, w)\n",
    "$$"
   ]
  },
  {
   "cell_type": "markdown",
   "metadata": {},
   "source": [
    "### 学習のゴール\n",
    "選んだ$E(w)$に対して最小値を与える$w=argmin_{w}E(w)$を求めることですが、前回の内容のように簡単には最小値を求めることができません。  \n",
    "いくつもの極小値から、最小値の候補となる極小値を見つけ出すことが考えられますが、見つけた極小値が本当に最小値かどうかを評価する必要があります。  \n",
    "たまたま見つけた極小値が、$E(w)$の大局的な最小値である可能性はほぼないです。  \n",
    "  \n",
    "したがって、何らかの初期値を与えて『繰り返し』$w$を更新して反復計算を行います。  \n",
    "もっとも簡単な方法が、**勾配降下法**(gradient descent method)となります。勾配降下法の**勾配**(gradient)とは、\n",
    "  \n",
    "$$\n",
    "  \\nabla E = \\frac{\\partial E}{\\partial w}  =\\left[\n",
    "    \\frac{\\partial E}{\\partial w_{1}} \\cdot \\cdot \\cdot \\frac{\\partial E}{\\partial w_{M}}\n",
    "  \\right]^{T}\n",
    "$$\n",
    "  \n",
    "勾配降下法は、現在の$w$を、負の勾配方向$- \\nabla E$に少し動かして...という処理を何度も繰り返し行います。  \n",
    "現在の重みを、$w^{t}$, 動かした後の重みを$w^{t+1}$とすると、\n",
    "  \n",
    "$$\n",
    "w^{t+1} = w^{t} - \\epsilon \\nabla E\n",
    "$$\n",
    "  \n",
    "この$\\epsilon$を、**学習係数**(ステップ幅)といいます。  \n",
    "学習係数の決定は大変重要な問題で、学習がうまくいくかどうかの要因の１つになります。  "
   ]
  },
  {
   "cell_type": "markdown",
   "metadata": {},
   "source": [
    "### 確率的勾配降下法\n",
    "全訓練サンプル$n=1, 2, ... , N$に対して計算される誤差関数$E(w)$について最小化すること、これを前述しましたが、  \n",
    "このとき回帰やクラス分類のどれであっても$E(w)$は各サンプル1個だけについて計算される誤差$E_{n}$の和として、  \n",
    "  \n",
    "$$\n",
    "E(w) = \\sum_{n=1}^{N}E_{n}(w)\n",
    "$$\n",
    "  \n",
    "と与えれらます。  \n",
    "$w$の更新式として、$w^{t+1} = w^{t} - \\epsilon \\nabla E$では、この$E(w)$を用いています。  \n",
    "この方法を、一般的に**バッチ学習**(batch learning)と呼びます。※エポック学習(epoch learning)ともいいます  \n",
    "  \n",
    "上記の場合は、**すべての訓練データ**を考慮していますが、この方法以外に、サンプルの一部、極端にはサンプルの１つだけを用いて  \n",
    "パラメータの更新を行うことがあります。これを**確率的勾配降下法**(stochastic gradient descent)といい、頭文字をとって**SGD**と呼ばれています。  \n",
    "  \n",
    "この方法では、$w$の更新は１つのサンプル$k$について計算される誤差関数$E_{k}(w)$の勾配$\\nabla E_{k}$を計算し、  \n",
    "  \n",
    "$$\n",
    "w^{t+1} = w^{t} - \\epsilon \\nabla E_{k}\n",
    "$$\n",
    "  \n",
    "のように$w$を更新します。次の$w^{t+1}$の更新の際は、別のサンプル$k^{'}$を取り出して、これを用いて同様に勾配$\\nabla E_{k^{'}}$を評価し$w$を更新します。  \n",
    "このようにしてサンプルを毎回取り替えて、$w$を更新していきます。  \n",
    "  \n",
    "バッチ学習の勾配降下法に対して、確率的勾配降下法にはいくつかの長所があるため、ディープラーニングの学習では確率的勾配降下法を利用するのが一般的です。  "
   ]
  },
  {
   "cell_type": "markdown",
   "metadata": {},
   "source": [
    "### ミニバッチの利用\n",
    "規模が大きくなってくると、特にニューラルネットワークの学習には大きなコスト(計算時間)を要します。  \n",
    "そこで計算を効率よくするために、計算機がもつ並列計算資源の利用が不可欠となってきます。  \n",
    "そのために、サンプル一つ単位で重みを更新するのではなく、少数のサンプルの集合を**ひとまとめ**にして、その単位で重みを更新します。  \n",
    "  \n",
    "このひとまとめの集合を、**ミニバッチ**(mini-batch)といいます。  \n",
    "  \n",
    "具体的には、下記のような処理をします。\n",
    "  \n",
    "・まず１つのミニバッチを$D_{t}$と書くことにします  \n",
    "※少数のサンプルの集合を指していて、$t$回目の更新ごとにそのサンプル集合が変わることを示しています  \n",
    "  \n",
    "・$D_{t}$の含むサンプルに対する誤差  \n",
    "  \n",
    "$$\n",
    "E_{t}(w) = \\frac{1}{N_{t}}\\sum_{n \\in D_{t}}E_{n}(w)\n",
    "$$\n",
    "  \n",
    "を計算して、その勾配の方向にパラメータを更新します。  \n",
    "$N_{t}=\\mid D_{t} \\mid$はこのミニバッチが含むサンプル数となります。  \n",
    "  \n",
    "このときに、$E_{t}(w)$を$N_{t}$で正規化しておくと、ミニバッチのサンプルのサイズ(サンプル数)を変えたときに、  \n",
    "それに合わせて学習係数を調整しなければならない面倒くささを低減することができます。  \n",
    "  \n",
    "確率的降下勾配法のメリットと並列計算資源のトレードオフを考えて、うまく設定します。  \n",
    "大体ミニバッチのサイズが、10~100(50〜256)が一般的ですが、目的とゴールによって様々。  \n",
    "  \n",
    "ミニバッチのサイズを大きくすればするほど、ミニバッチ間で計算される勾配のばらつきが小さくなり、  \n",
    "$w$の更新量が安定するので、学習係数$\\epsilon$を大きくでき、それだけ学習が速く進むことになります。  \n",
    "しかし一方で、ミニバッチサイズを$N$倍しても、$\\epsilon$を$N$倍大きくすることはできないので、結果としてトータルの計算速度は低下します。"
   ]
  },
  {
   "cell_type": "markdown",
   "metadata": {},
   "source": [
    "### 汎化性能と過学習\n",
    "ここまでは、訓練データに対する誤差(誤差関数の値)を小さくすること、最小化することを考えてきました。  \n",
    "学習の本当の目的は、与えられた訓練データではなくて、これから与えられるはずの『まだ知らない』データ$X$について正しい推定ができることです。  \n",
    "  \n",
    "訓練データに対する誤差を**訓練誤差**(training error)、『まだ知らない』データ、正しく言えばサンプルの母集団に対する誤差の期待値を、  \n",
    "**汎化誤差**(generalization error)といいます。  \n",
    "  \n",
    "汎化誤差を小さくすることがベストですが、汎化誤差は統計的な期待値で、訓練誤差のようには計算できません。(例えば、繰り返して訓練できない)  \n",
    "そこで訓練データとは別のサンプルデータを用意します。このサンプルデータに対して訓練誤差と同じ方法で計算される誤差を、  \n",
    "汎化誤差の\"目安\"とします。※この目安を、仮にテスト誤差とします  \n",
    "  \n",
    "訓練誤差は一般的に、パラメータを更新する後に単調に減少して収束していきます。(学習が進んでいるから)  \n",
    "一方で、テスト誤差は学習の前半では訓練誤差とほぼ同じように減少しますが、学習の後半では徐々に解離していきます。  \n",
    "理想は、このテスト誤差が訓練誤差とよく近似できていることです。(後述)  \n",
    "  \n",
    "このときに、学習中盤以降に、訓練誤差とテスト誤差を大きく解離していくパターンがあり、  \n",
    "このパターンを、**過学習(over learning)**(過適合:over fitting)といいます。  \n",
    "  \n",
    "パラメータ更新に伴って、訓練誤差に対してテスト誤差が大きくなっていくと、むしろそれ以上の訓練・学習は有効ではないために、  \n",
    "早期に学習を切り上げるのがベターです。そのとき、**早期打ち切り**(early stopping)を行います。"
   ]
  },
  {
   "cell_type": "markdown",
   "metadata": {},
   "source": [
    "### 過学習の回避\n",
    "**ドロップアウト**は、多層ニューラルネットのユニットを確率的に選別して学習する方法です。  \n",
    "多くの場合、大変良い結果が得られるために現在広く扱われています。ドロップアウトは、ネットワークの学習過程と学習後の推論過程を、  \n",
    "以下のように修正していきます。  \n",
    "  \n",
    "・学習時、中間層の各層と入力層のユニットを決まった割合$p$でランダムに選出する(選出されたもの以外は無視)  \n",
    "・選出されたユニットだけのニューラルネットで学習を進める  \n",
    "・訓練サンプルをネットワークに順伝搬計算を行って、誤差を求め、逆伝搬計算を行って誤差の勾配を計算し、重みを更新  \n",
    "  \n",
    "※ミニバッチを用いている場合、ミニバッチ単位でユニットを選びなおします。  \n",
    "ユニットの選出確率は、層ごとに変化させても問題ありません。  \n",
    "  \n",
    "学習終了時の推論時には、すべてのユニットを使って順伝搬計算を行います。  \n",
    "ただし、ドロップアウトで無効化の対象とした層のユニットは、すべて一律に出力を$p$倍します。  \n",
    "  \n",
    "ドロップアウトの目的は、学習時にネットワークの自由度を強制的に小さくし、過学習を避けることです。  \n",
    "ドロップアウト時のネットワークを複数独立に訓令し、推論時にそれらの結果を平均するのと同じ効果があります。  \n",
    "\n",
    "**モメンタム(モーメンタム)**(momentum)という方法もあり、勾配降下法の収束性能を向上させる方法となります。  \n",
    "これは重みの修正量に、ミニバッチ$t-1$に対する重みの修正量を$\\delta w^{t-1} \\equiv w^{t} - w^{t-1}$とすれば、ミニバッチの更新を  \n",
    "  \n",
    "$$\n",
    "w^{t+1} = w^{t} - \\epsilon \\nabla E_{t} + \\mu \\delta w^{t-1}\n",
    "$$\n",
    "  \n",
    "と定義します。\n",
    "$\\mu$はハイパーパラメータの一つになり、通常は、0.5~0.9の範囲から選択します。"
   ]
  },
  {
   "cell_type": "markdown",
   "metadata": {},
   "source": [
    "## kerasの実装編"
   ]
  },
  {
   "cell_type": "code",
   "execution_count": 2,
   "metadata": {},
   "outputs": [],
   "source": [
    "from keras import optimizers\n",
    "from keras.models import Sequential\n",
    "from keras.layers import Dense, Activation"
   ]
  },
  {
   "cell_type": "code",
   "execution_count": 3,
   "metadata": {},
   "outputs": [],
   "source": [
    "# SGD\n",
    "model = Sequential()\n",
    "model.add(Dense(64, kernel_initializer='uniform', input_shape=(10,)))\n",
    "model.add(Activation('tanh'))\n",
    "model.add(Activation('softmax'))\n",
    "\n",
    "sgd = optimizers.SGD(lr=0.01, decay=1e-6, momentum=0.9, nesterov=True)\n",
    "model.compile(loss='mean_squared_error', optimizer=sgd)"
   ]
  },
  {
   "cell_type": "code",
   "execution_count": 4,
   "metadata": {},
   "outputs": [
    {
     "name": "stdout",
     "output_type": "stream",
     "text": [
      "Model: \"sequential_1\"\n",
      "_________________________________________________________________\n",
      "Layer (type)                 Output Shape              Param #   \n",
      "=================================================================\n",
      "dense_1 (Dense)              (None, 64)                704       \n",
      "_________________________________________________________________\n",
      "activation_1 (Activation)    (None, 64)                0         \n",
      "_________________________________________________________________\n",
      "activation_2 (Activation)    (None, 64)                0         \n",
      "=================================================================\n",
      "Total params: 704\n",
      "Trainable params: 704\n",
      "Non-trainable params: 0\n",
      "_________________________________________________________________\n"
     ]
    }
   ],
   "source": [
    "model.summary()"
   ]
  },
  {
   "cell_type": "markdown",
   "metadata": {},
   "source": [
    "### 前回の順伝搬型ニューラルネットに、SGDを用いて再度学習させてみる"
   ]
  },
  {
   "cell_type": "code",
   "execution_count": 5,
   "metadata": {},
   "outputs": [],
   "source": [
    "# -*- coding: utf-8 -*-\n",
    "import numpy as np\n",
    "\n",
    "from keras.datasets import mnist\n",
    "from keras.models import Sequential\n",
    "from keras.layers.core import Dense, Activation\n",
    "from keras.utils import np_utils"
   ]
  },
  {
   "cell_type": "code",
   "execution_count": 6,
   "metadata": {},
   "outputs": [
    {
     "data": {
      "text/plain": [
       "((60000, 28, 28), (10000, 28, 28))"
      ]
     },
     "execution_count": 6,
     "metadata": {},
     "output_type": "execute_result"
    }
   ],
   "source": [
    "# MNIST データセットを取り込む\n",
    "(X_train, y_train), (X_test, y_test) = mnist.load_data()\n",
    "# 変換前：28 x 28 の2次元配列 x 60,000\n",
    "X_train.shape, X_test.shape"
   ]
  },
  {
   "cell_type": "code",
   "execution_count": 7,
   "metadata": {},
   "outputs": [],
   "source": [
    "# 28*28の２次元配列を、784要素の1次元配列に変換する＆256階調を[0, 1]に正規化\n",
    "X_train = X_train.reshape(60000, 784).astype('float32') / 255\n",
    "X_test  = X_test.reshape(10000, 784).astype('float32') / 255"
   ]
  },
  {
   "cell_type": "code",
   "execution_count": 14,
   "metadata": {},
   "outputs": [],
   "source": [
    "# 0~9の数字を、10次元で表現する\n",
    "y_train_array = np_utils.to_categorical(y_train, 10)\n",
    "y_test_array  = np_utils.to_categorical(y_test, 10)"
   ]
  },
  {
   "cell_type": "code",
   "execution_count": 16,
   "metadata": {},
   "outputs": [],
   "source": [
    "# モデルの箱(空箱)\n",
    "model_non_drop_out_with_SGD = Sequential()\n",
    "\n",
    "# 入力層\n",
    "# - ノード数：512\n",
    "# - 入力：784次元\n",
    "# - 活性化関数：relu\n",
    "model_non_drop_out_with_SGD.add(Dense(512, input_dim=784))\n",
    "model_non_drop_out_with_SGD.add(Activation('relu'))\n",
    "\n",
    "# 隠れ層\n",
    "# - ノード数：512\n",
    "# - 活性化関数：relu\n",
    "model_non_drop_out_with_SGD.add(Dense(512))\n",
    "model_non_drop_out_with_SGD.add(Activation('relu'))\n",
    "\n",
    "# 出力層\n",
    "# - ノード数：10\n",
    "# - 活性化関数：softmax\n",
    "model_non_drop_out_with_SGD.add(Dense(10))\n",
    "model_non_drop_out_with_SGD.add(Activation('softmax'))\n",
    "\n",
    "sgd = optimizers.SGD(lr=0.01, decay=1e-6, momentum=0.9, nesterov=True)\n",
    "model_non_drop_out_with_SGD.compile(loss='categorical_crossentropy',\n",
    "                                    optimizer=sgd,\n",
    "                                    metrics=['accuracy']\n",
    "                                   )"
   ]
  },
  {
   "cell_type": "code",
   "execution_count": 17,
   "metadata": {},
   "outputs": [
    {
     "name": "stdout",
     "output_type": "stream",
     "text": [
      "Model: \"sequential_4\"\n",
      "_________________________________________________________________\n",
      "Layer (type)                 Output Shape              Param #   \n",
      "=================================================================\n",
      "dense_8 (Dense)              (None, 512)               401920    \n",
      "_________________________________________________________________\n",
      "activation_9 (Activation)    (None, 512)               0         \n",
      "_________________________________________________________________\n",
      "dense_9 (Dense)              (None, 512)               262656    \n",
      "_________________________________________________________________\n",
      "activation_10 (Activation)   (None, 512)               0         \n",
      "_________________________________________________________________\n",
      "dense_10 (Dense)             (None, 10)                5130      \n",
      "_________________________________________________________________\n",
      "activation_11 (Activation)   (None, 10)                0         \n",
      "=================================================================\n",
      "Total params: 669,706\n",
      "Trainable params: 669,706\n",
      "Non-trainable params: 0\n",
      "_________________________________________________________________\n"
     ]
    }
   ],
   "source": [
    "# モデルの要約を出力\n",
    "model_non_drop_out_with_SGD.summary()"
   ]
  },
  {
   "cell_type": "code",
   "execution_count": 18,
   "metadata": {
    "scrolled": true
   },
   "outputs": [
    {
     "name": "stdout",
     "output_type": "stream",
     "text": [
      "Train on 60000 samples, validate on 10000 samples\n",
      "Epoch 1/20\n",
      "60000/60000 [==============================] - 6s 98us/step - loss: 0.4241 - accuracy: 0.8856 - val_loss: 0.2208 - val_accuracy: 0.9375\n",
      "Epoch 2/20\n",
      "60000/60000 [==============================] - 6s 106us/step - loss: 0.1930 - accuracy: 0.9436 - val_loss: 0.1568 - val_accuracy: 0.9532\n",
      "Epoch 3/20\n",
      "60000/60000 [==============================] - 7s 115us/step - loss: 0.1416 - accuracy: 0.9600 - val_loss: 0.1236 - val_accuracy: 0.9635\n",
      "Epoch 4/20\n",
      "60000/60000 [==============================] - 7s 118us/step - loss: 0.1113 - accuracy: 0.9679 - val_loss: 0.1072 - val_accuracy: 0.9681\n",
      "Epoch 5/20\n",
      "60000/60000 [==============================] - 6s 101us/step - loss: 0.0905 - accuracy: 0.9742 - val_loss: 0.0939 - val_accuracy: 0.9711\n",
      "Epoch 6/20\n",
      "60000/60000 [==============================] - 6s 101us/step - loss: 0.0757 - accuracy: 0.9784 - val_loss: 0.0894 - val_accuracy: 0.9732\n",
      "Epoch 7/20\n",
      "60000/60000 [==============================] - 6s 101us/step - loss: 0.0645 - accuracy: 0.9819 - val_loss: 0.0787 - val_accuracy: 0.9753\n",
      "Epoch 8/20\n",
      "60000/60000 [==============================] - 7s 109us/step - loss: 0.0549 - accuracy: 0.9847 - val_loss: 0.0779 - val_accuracy: 0.9756\n",
      "Epoch 9/20\n",
      "60000/60000 [==============================] - 7s 118us/step - loss: 0.0473 - accuracy: 0.9869 - val_loss: 0.0705 - val_accuracy: 0.9781\n",
      "Epoch 10/20\n",
      "60000/60000 [==============================] - 7s 116us/step - loss: 0.0409 - accuracy: 0.9887 - val_loss: 0.0672 - val_accuracy: 0.9782\n",
      "Epoch 11/20\n",
      "60000/60000 [==============================] - 6s 107us/step - loss: 0.0352 - accuracy: 0.9907 - val_loss: 0.0667 - val_accuracy: 0.9798\n",
      "Epoch 12/20\n",
      "60000/60000 [==============================] - 6s 105us/step - loss: 0.0308 - accuracy: 0.9923 - val_loss: 0.0656 - val_accuracy: 0.9792\n",
      "Epoch 13/20\n",
      "60000/60000 [==============================] - 7s 109us/step - loss: 0.0268 - accuracy: 0.9935 - val_loss: 0.0647 - val_accuracy: 0.9801\n",
      "Epoch 14/20\n",
      "60000/60000 [==============================] - 7s 111us/step - loss: 0.0231 - accuracy: 0.9948 - val_loss: 0.0642 - val_accuracy: 0.9795\n",
      "Epoch 15/20\n",
      "60000/60000 [==============================] - 7s 113us/step - loss: 0.0199 - accuracy: 0.9958 - val_loss: 0.0652 - val_accuracy: 0.9803\n",
      "Epoch 16/20\n",
      "60000/60000 [==============================] - 7s 113us/step - loss: 0.0174 - accuracy: 0.9966 - val_loss: 0.0598 - val_accuracy: 0.9810\n",
      "Epoch 17/20\n",
      "60000/60000 [==============================] - 7s 118us/step - loss: 0.0152 - accuracy: 0.9974 - val_loss: 0.0623 - val_accuracy: 0.9813\n",
      "Epoch 18/20\n",
      "60000/60000 [==============================] - 7s 109us/step - loss: 0.0133 - accuracy: 0.9980 - val_loss: 0.0602 - val_accuracy: 0.9808\n",
      "Epoch 19/20\n",
      "60000/60000 [==============================] - 7s 117us/step - loss: 0.0118 - accuracy: 0.9983 - val_loss: 0.0617 - val_accuracy: 0.9818\n",
      "Epoch 20/20\n",
      "60000/60000 [==============================] - 7s 111us/step - loss: 0.0103 - accuracy: 0.9987 - val_loss: 0.0610 - val_accuracy: 0.9815\n"
     ]
    },
    {
     "data": {
      "text/plain": [
       "<keras.callbacks.callbacks.History at 0x136d3be48>"
      ]
     },
     "execution_count": 18,
     "metadata": {},
     "output_type": "execute_result"
    }
   ],
   "source": [
    "# 学習\n",
    "# - バッチサイズ：128\n",
    "# - 学習の繰り返し回数：20\n",
    "model_non_drop_out_with_SGD.fit(X_train, y_train_array,\n",
    "                       batch_size=128,\n",
    "                       epochs=20,\n",
    "                       verbose=1,\n",
    "                       validation_data=(X_test, y_test_array))"
   ]
  },
  {
   "cell_type": "code",
   "execution_count": 19,
   "metadata": {},
   "outputs": [
    {
     "name": "stdout",
     "output_type": "stream",
     "text": [
      "Test loss : 0.060966521442710656\n",
      "Test accuracy : 0.9815000295639038\n"
     ]
    }
   ],
   "source": [
    "# 評価\n",
    "score = model_non_drop_out_with_SGD.evaluate(X_test, y_test_array, verbose=0)\n",
    "print('Test loss :', score[0])\n",
    "print('Test accuracy :', score[1])"
   ]
  },
  {
   "cell_type": "markdown",
   "metadata": {},
   "source": [
    "### ミニバッチを変更した時の計算速度比較 & Eealy Stopping"
   ]
  },
  {
   "cell_type": "code",
   "execution_count": 21,
   "metadata": {},
   "outputs": [],
   "source": [
    "from keras.callbacks import EarlyStopping"
   ]
  },
  {
   "cell_type": "code",
   "execution_count": 22,
   "metadata": {},
   "outputs": [],
   "source": [
    "# Early-stopping \n",
    "early_stopping = EarlyStopping(patience=0, verbose=1) "
   ]
  },
  {
   "cell_type": "code",
   "execution_count": 23,
   "metadata": {},
   "outputs": [
    {
     "name": "stdout",
     "output_type": "stream",
     "text": [
      "Train on 60000 samples, validate on 10000 samples\n",
      "Epoch 1/20\n",
      "60000/60000 [==============================] - 65s 1ms/step - loss: 0.2271 - accuracy: 0.9312 - val_loss: 0.1266 - val_accuracy: 0.9633\n",
      "Epoch 2/20\n",
      "60000/60000 [==============================] - 63s 1ms/step - loss: 0.1114 - accuracy: 0.9663 - val_loss: 0.1070 - val_accuracy: 0.9675\n",
      "Epoch 3/20\n",
      "60000/60000 [==============================] - 61s 1ms/step - loss: 0.0781 - accuracy: 0.9759 - val_loss: 0.0979 - val_accuracy: 0.9707\n",
      "Epoch 4/20\n",
      "60000/60000 [==============================] - 61s 1ms/step - loss: 0.0603 - accuracy: 0.9807 - val_loss: 0.0883 - val_accuracy: 0.9736\n",
      "Epoch 5/20\n",
      "60000/60000 [==============================] - 62s 1ms/step - loss: 0.0490 - accuracy: 0.9843 - val_loss: 0.0971 - val_accuracy: 0.9721\n",
      "Epoch 00005: early stopping\n"
     ]
    },
    {
     "data": {
      "text/plain": [
       "<keras.callbacks.callbacks.History at 0x10a42aeb8>"
      ]
     },
     "execution_count": 23,
     "metadata": {},
     "output_type": "execute_result"
    }
   ],
   "source": [
    "# 学習\n",
    "# - バッチサイズ：10\n",
    "# - 学習の繰り返し回数：20\n",
    "model_non_drop_out_with_SGD.fit(X_train, y_train_array,\n",
    "                                batch_size=10,\n",
    "                                epochs=20,\n",
    "                                verbose=1,\n",
    "                                validation_data=(X_test, y_test_array),\n",
    "                                callbacks=[early_stopping])"
   ]
  },
  {
   "cell_type": "code",
   "execution_count": 24,
   "metadata": {},
   "outputs": [
    {
     "name": "stdout",
     "output_type": "stream",
     "text": [
      "Test loss : 0.0971373441231146\n",
      "Test accuracy : 0.972100019454956\n"
     ]
    }
   ],
   "source": [
    "# 評価\n",
    "score = model_non_drop_out_with_SGD.evaluate(X_test, y_test_array, verbose=0)\n",
    "print('Test loss :', score[0])\n",
    "print('Test accuracy :', score[1])"
   ]
  },
  {
   "cell_type": "code",
   "execution_count": 25,
   "metadata": {
    "scrolled": true
   },
   "outputs": [
    {
     "name": "stdout",
     "output_type": "stream",
     "text": [
      "Train on 60000 samples, validate on 10000 samples\n",
      "Epoch 1/20\n",
      "60000/60000 [==============================] - 6s 94us/step - loss: 0.0284 - accuracy: 0.9912 - val_loss: 0.0712 - val_accuracy: 0.9797\n",
      "Epoch 2/20\n",
      "60000/60000 [==============================] - 5s 86us/step - loss: 0.0192 - accuracy: 0.9945 - val_loss: 0.0682 - val_accuracy: 0.9807\n",
      "Epoch 3/20\n",
      "60000/60000 [==============================] - 6s 100us/step - loss: 0.0168 - accuracy: 0.9955 - val_loss: 0.0670 - val_accuracy: 0.9803\n",
      "Epoch 4/20\n",
      "60000/60000 [==============================] - 6s 93us/step - loss: 0.0154 - accuracy: 0.9960 - val_loss: 0.0659 - val_accuracy: 0.9806\n",
      "Epoch 5/20\n",
      "60000/60000 [==============================] - 5s 89us/step - loss: 0.0145 - accuracy: 0.9964 - val_loss: 0.0656 - val_accuracy: 0.9807\n",
      "Epoch 6/20\n",
      "60000/60000 [==============================] - 7s 114us/step - loss: 0.0138 - accuracy: 0.9967 - val_loss: 0.0656 - val_accuracy: 0.9802\n",
      "Epoch 7/20\n",
      "60000/60000 [==============================] - 5s 89us/step - loss: 0.0132 - accuracy: 0.9970 - val_loss: 0.0654 - val_accuracy: 0.9807\n",
      "Epoch 8/20\n",
      "60000/60000 [==============================] - 6s 92us/step - loss: 0.0127 - accuracy: 0.9972 - val_loss: 0.0652 - val_accuracy: 0.9811\n",
      "Epoch 9/20\n",
      "60000/60000 [==============================] - 5s 83us/step - loss: 0.0122 - accuracy: 0.9973 - val_loss: 0.0650 - val_accuracy: 0.9814\n",
      "Epoch 10/20\n",
      "60000/60000 [==============================] - 5s 84us/step - loss: 0.0118 - accuracy: 0.9975 - val_loss: 0.0651 - val_accuracy: 0.9814\n",
      "Epoch 00010: early stopping\n"
     ]
    },
    {
     "data": {
      "text/plain": [
       "<keras.callbacks.callbacks.History at 0x139443390>"
      ]
     },
     "execution_count": 25,
     "metadata": {},
     "output_type": "execute_result"
    }
   ],
   "source": [
    "# 学習\n",
    "# - バッチサイズ：512\n",
    "# - 学習の繰り返し回数：20\n",
    "model_non_drop_out_with_SGD.fit(X_train, y_train_array,\n",
    "                                batch_size=512,\n",
    "                                epochs=20,\n",
    "                                verbose=1,\n",
    "                                validation_data=(X_test, y_test_array),\n",
    "                                callbacks=[early_stopping])"
   ]
  },
  {
   "cell_type": "code",
   "execution_count": 26,
   "metadata": {},
   "outputs": [
    {
     "name": "stdout",
     "output_type": "stream",
     "text": [
      "Test loss : 0.06507510154138872\n",
      "Test accuracy : 0.9814000129699707\n"
     ]
    }
   ],
   "source": [
    "# 評価\n",
    "score = model_non_drop_out_with_SGD.evaluate(X_test, y_test_array, verbose=0)\n",
    "print('Test loss :', score[0])\n",
    "print('Test accuracy :', score[1])"
   ]
  },
  {
   "cell_type": "markdown",
   "metadata": {},
   "source": [
    "### 加えてドロップアウトを加えてみる\n",
    "rate = 1-keep_probとなっており、 tensorflowでは、keep_probが扱われ、Kerasは rateになる"
   ]
  },
  {
   "cell_type": "code",
   "execution_count": 54,
   "metadata": {},
   "outputs": [],
   "source": [
    "from keras.layers import Dropout"
   ]
  },
  {
   "cell_type": "code",
   "execution_count": 55,
   "metadata": {},
   "outputs": [],
   "source": [
    "# モデルの箱(空箱)\n",
    "model_with_SGD = Sequential()\n",
    "\n",
    "# 入力層\n",
    "# - ノード数：512\n",
    "# - 入力：784次元\n",
    "# - 活性化関数：relu\n",
    "model_with_SGD.add(Dense(512, input_dim=784))\n",
    "model_with_SGD.add(Activation('relu'))\n",
    "model_with_SGD.add(Dropout(0.1)) # 入力層なので、ドロップアウトを0.9\n",
    "\n",
    "# 隠れ層\n",
    "# - ノード数：512\n",
    "# - 活性化関数：relu\n",
    "model_with_SGD.add(Dense(512))\n",
    "model_with_SGD.add(Activation('relu'))\n",
    "model_with_SGD.add(Dropout(0.5)) # 中間層なので、ドロップアウトを0.5\n",
    "\n",
    "# 出力層\n",
    "# - ノード数：10\n",
    "# - 活性化関数：softmax\n",
    "model_with_SGD.add(Dense(10))\n",
    "model_with_SGD.add(Activation('softmax'))\n",
    "\n",
    "sgd = optimizers.SGD(lr=0.01, decay=1e-6, momentum=0.9, nesterov=True)\n",
    "model_with_SGD.compile(loss='categorical_crossentropy',\n",
    "                       optimizer=sgd,\n",
    "                       metrics=['accuracy']\n",
    "                      )"
   ]
  },
  {
   "cell_type": "code",
   "execution_count": 56,
   "metadata": {},
   "outputs": [
    {
     "name": "stdout",
     "output_type": "stream",
     "text": [
      "Model: \"sequential_10\"\n",
      "_________________________________________________________________\n",
      "Layer (type)                 Output Shape              Param #   \n",
      "=================================================================\n",
      "dense_26 (Dense)             (None, 512)               401920    \n",
      "_________________________________________________________________\n",
      "activation_27 (Activation)   (None, 512)               0         \n",
      "_________________________________________________________________\n",
      "dropout_11 (Dropout)         (None, 512)               0         \n",
      "_________________________________________________________________\n",
      "dense_27 (Dense)             (None, 512)               262656    \n",
      "_________________________________________________________________\n",
      "activation_28 (Activation)   (None, 512)               0         \n",
      "_________________________________________________________________\n",
      "dropout_12 (Dropout)         (None, 512)               0         \n",
      "_________________________________________________________________\n",
      "dense_28 (Dense)             (None, 10)                5130      \n",
      "_________________________________________________________________\n",
      "activation_29 (Activation)   (None, 10)                0         \n",
      "=================================================================\n",
      "Total params: 669,706\n",
      "Trainable params: 669,706\n",
      "Non-trainable params: 0\n",
      "_________________________________________________________________\n"
     ]
    }
   ],
   "source": [
    "model_with_SGD.summary()"
   ]
  },
  {
   "cell_type": "code",
   "execution_count": 57,
   "metadata": {},
   "outputs": [
    {
     "name": "stdout",
     "output_type": "stream",
     "text": [
      "Train on 60000 samples, validate on 10000 samples\n",
      "Epoch 1/20\n",
      "60000/60000 [==============================] - 13s 215us/step - loss: 0.5022 - accuracy: 0.8494 - val_loss: 0.2160 - val_accuracy: 0.9383\n",
      "Epoch 2/20\n",
      "60000/60000 [==============================] - 10s 172us/step - loss: 0.2289 - accuracy: 0.9330 - val_loss: 0.1529 - val_accuracy: 0.9541\n",
      "Epoch 3/20\n",
      "60000/60000 [==============================] - 9s 150us/step - loss: 0.1729 - accuracy: 0.9494 - val_loss: 0.1251 - val_accuracy: 0.9623\n",
      "Epoch 4/20\n",
      "60000/60000 [==============================] - 10s 160us/step - loss: 0.1389 - accuracy: 0.9592 - val_loss: 0.1092 - val_accuracy: 0.9676\n",
      "Epoch 5/20\n",
      "60000/60000 [==============================] - 11s 191us/step - loss: 0.1182 - accuracy: 0.9646 - val_loss: 0.0946 - val_accuracy: 0.9722\n",
      "Epoch 6/20\n",
      "60000/60000 [==============================] - 14s 228us/step - loss: 0.1028 - accuracy: 0.9699 - val_loss: 0.0845 - val_accuracy: 0.9750\n",
      "Epoch 7/20\n",
      "60000/60000 [==============================] - 11s 183us/step - loss: 0.0902 - accuracy: 0.9733 - val_loss: 0.0816 - val_accuracy: 0.9745\n",
      "Epoch 8/20\n",
      "60000/60000 [==============================] - 11s 182us/step - loss: 0.0796 - accuracy: 0.9757 - val_loss: 0.0735 - val_accuracy: 0.9771\n",
      "Epoch 9/20\n",
      "60000/60000 [==============================] - 11s 175us/step - loss: 0.0722 - accuracy: 0.9783 - val_loss: 0.0710 - val_accuracy: 0.9788\n",
      "Epoch 10/20\n",
      "60000/60000 [==============================] - 12s 207us/step - loss: 0.0655 - accuracy: 0.9803 - val_loss: 0.0675 - val_accuracy: 0.9788\n",
      "Epoch 11/20\n",
      "60000/60000 [==============================] - 12s 199us/step - loss: 0.0587 - accuracy: 0.9821 - val_loss: 0.0658 - val_accuracy: 0.9794\n",
      "Epoch 12/20\n",
      "60000/60000 [==============================] - 10s 168us/step - loss: 0.0544 - accuracy: 0.9835 - val_loss: 0.0619 - val_accuracy: 0.9804\n",
      "Epoch 13/20\n",
      "60000/60000 [==============================] - 9s 149us/step - loss: 0.0490 - accuracy: 0.9855 - val_loss: 0.0605 - val_accuracy: 0.9808\n",
      "Epoch 14/20\n",
      "60000/60000 [==============================] - 9s 147us/step - loss: 0.0459 - accuracy: 0.9863 - val_loss: 0.0604 - val_accuracy: 0.9816\n",
      "Epoch 15/20\n",
      "60000/60000 [==============================] - 10s 166us/step - loss: 0.0421 - accuracy: 0.9875 - val_loss: 0.0573 - val_accuracy: 0.9815\n",
      "Epoch 16/20\n",
      "60000/60000 [==============================] - 11s 180us/step - loss: 0.0383 - accuracy: 0.9886 - val_loss: 0.0571 - val_accuracy: 0.9824\n",
      "Epoch 17/20\n",
      "60000/60000 [==============================] - 10s 174us/step - loss: 0.0364 - accuracy: 0.9891 - val_loss: 0.0575 - val_accuracy: 0.9825\n",
      "Epoch 00017: early stopping\n"
     ]
    }
   ],
   "source": [
    "# 学習\n",
    "# - バッチサイズ：128\n",
    "# - 学習の繰り返し回数：20\n",
    "his = model_with_SGD.fit(X_train, y_train_array,\n",
    "                         batch_size=128,\n",
    "                         epochs=20,\n",
    "                         verbose=1,\n",
    "                         validation_data=(X_test, y_test_array),\n",
    "                         callbacks=[early_stopping])"
   ]
  },
  {
   "cell_type": "code",
   "execution_count": 58,
   "metadata": {},
   "outputs": [
    {
     "name": "stdout",
     "output_type": "stream",
     "text": [
      "Test loss : 0.05748828273621621\n",
      "Test accuracy : 0.9825000166893005\n"
     ]
    }
   ],
   "source": [
    "# 評価\n",
    "score = model_with_SGD.evaluate(X_test, y_test_array, verbose=0)\n",
    "print('Test loss :', score[0])\n",
    "print('Test accuracy :', score[1])"
   ]
  },
  {
   "cell_type": "code",
   "execution_count": 59,
   "metadata": {},
   "outputs": [],
   "source": [
    "import matplotlib.pyplot as plt"
   ]
  },
  {
   "cell_type": "code",
   "execution_count": 60,
   "metadata": {},
   "outputs": [
    {
     "data": {
      "image/png": "[encoded data removed]",
      "text/plain": [
       "<Figure size 432x288 with 1 Axes>"
      ]
     },
     "metadata": {
      "needs_background": "light"
     },
     "output_type": "display_data"
    }
   ],
   "source": [
    "loss = his.history['loss']\n",
    "val_loss = his.history['val_loss']\n",
    "\n",
    "nb_epoch = len(loss)\n",
    "plt.plot(range(nb_epoch), loss, marker='.', label='loss')\n",
    "plt.plot(range(nb_epoch), val_loss, marker='.', label='val_loss')\n",
    "plt.legend(loc='best', fontsize=10)\n",
    "plt.grid()\n",
    "plt.xlabel('epoch')\n",
    "plt.ylabel('loss')\n",
    "plt.show()"
   ]
  },
  {
   "cell_type": "markdown",
   "metadata": {},
   "source": [
    "#### 今回ドロップアウトの恩恵は期待するほどではなかった\n",
    "データが綺麗(特徴を掴みやすい)＆複雑なニューラルネットでもないため？？？  \n",
    "下記の参考リンクでは、ドロップアウトによる過学習(過適合)を抑制できる例があります(参考までに)  \n",
    "[Dropoutによる過学習の抑制](https://medium.com/axinc/dropout%E3%81%AB%E3%82%88%E3%82%8B%E9%81%8E%E5%AD%A6%E7%BF%92%E3%81%AE%E6%8A%91%E5%88%B6-be5b9bba7e89)"
   ]
  },
  {
   "cell_type": "markdown",
   "metadata": {},
   "source": [
    "## 余談(参考)"
   ]
  },
  {
   "cell_type": "markdown",
   "metadata": {},
   "source": [
    "### [Kerasが用意している最適化関数について](https://keras.io/ja/optimizers/)"
   ]
  },
  {
   "cell_type": "markdown",
   "metadata": {},
   "source": [
    "**非常に参考となるリンク [勾配降下法の最適化アルゴリズムを概観する](https://postd.cc/optimizing-gradient-descent/)**"
   ]
  },
  {
   "cell_type": "markdown",
   "metadata": {},
   "source": [
    "[Kerasに実装されている最適化アルゴリズムのソースコードの一部](https://github.com/keras-team/keras/blob/master/keras/optimizers.py#L130)\n",
    "  \n",
    "`from keras.mixed_precision import loss_scale_optimizer`  # pylint: disable=g-import-not-at-top  \n",
    "`  all_classes = {`  \n",
    "`      'adadelta': adadelta_v2.Adadelta,`  \n",
    "`      'adagrad': adagrad_v2.Adagrad,`  \n",
    "`      'adam': adam_v2.Adam,`  \n",
    "`      'adamax': adamax_v2.Adamax,`  \n",
    "`      'nadam': nadam_v2.Nadam,`  \n",
    "`      'rmsprop': rmsprop_v2.RMSprop,`  \n",
    "`      'sgd': gradient_descent_v2.SGD,`  \n",
    "`      'ftrl': ftrl.Ftrl,`  \n",
    "`      'lossscaleoptimizer': loss_scale_optimizer.LossScaleOptimizer,`  \n",
    "`      # LossScaleOptimizerV1 deserializes into LossScaleOptimizer, as`  \n",
    "`      # LossScaleOptimizerV1 will be removed soon but deserializing it will`  \n",
    "`      # still be supported.`  \n",
    "`      'lossscaleoptimizerv1': loss_scale_optimizer.LossScaleOptimizer,`  \n",
    "`  }`  "
   ]
  },
  {
   "cell_type": "markdown",
   "metadata": {},
   "source": [
    "**引数に、文字列、例えば\"adam\"とか\"sgd\"とかを設定すれば、バックエンドにあるtensorflowのアルゴリズムを無意識的に扱える**"
   ]
  },
  {
   "cell_type": "markdown",
   "metadata": {},
   "source": [
    "**Kerasオプティマイザ(最適化アルゴリズム)にある、SGDの扱い方**  \n",
    "`keras.optimizers.SGD(lr=0.01, momentum=0.0, decay=0.0, nesterov=False)`  \n",
    "  \n",
    "確率的勾配降下法オプティマイザについて  \n",
    "\n",
    "モーメンタム，学習率減衰，Nesterov momentumをサポートした確率的勾配降下法の引数一覧  \n",
    "  \n",
    "lr: 0以上の浮動小数点数．学習率．  \n",
    "momentum: 0以上の浮動小数点数．モーメンタム．  \n",
    "decay: 0以上の浮動小数点数．各更新の学習率減衰．  \n",
    "nesterov: 真理値. Nesterov momentumを適用するかどうか．  \n",
    "  \n",
    "[Keras SGDのソースコード  ](https://github.com/keras-team/keras/blob/1d49681f825d2d4282719efd27e13aca441b39c2/keras/optimizer_v1.py#L158)  \n",
    "`(中略)`  \n",
    "`  def get_updates(self, loss, params):`  \n",
    "`    grads = self.get_gradients(loss, params)`  \n",
    "`    self.updates = [tf.compat.v1.assign_add(self.iterations, 1)]`  \n",
    "`    lr = self.lr`  \n",
    "`    if self.initial_decay > 0:`  \n",
    "`      lr = lr * (  # pylint: disable=g-no-augmented-assignment`  \n",
    "`          1. /`  \n",
    "`          (1. +`  \n",
    "`           self.decay * tf.cast(self.iterations, K.dtype(self.decay))))`  \n",
    "`    # momentum`  \n",
    "`    moments = self._create_all_weights(params)`  \n",
    "`    for p, g, m in zip(params, grads, moments):`  \n",
    "`      v = self.momentum * m - lr * g  # velocity`  \n",
    "`      self.updates.append(tf.compat.v1.assign(m, v))`  \n",
    "`      if self.nesterov:`  \n",
    "`        new_p = p + self.momentum * v - lr * g`  \n",
    "`      else:`  \n",
    "`        new_p = p + v`  \n",
    "`      # (中略)`"
   ]
  }
 ],
 "metadata": {
  "kernelspec": {
   "display_name": "Python 3",
   "language": "python",
   "name": "python3"
  },
  "language_info": {
   "codemirror_mode": {
    "name": "ipython",
    "version": 3
   },
   "file_extension": ".py",
   "mimetype": "text/x-python",
   "name": "python",
   "nbconvert_exporter": "python",
   "pygments_lexer": "ipython3",
   "version": "3.6.5"
  }
 },
 "nbformat": 4,
 "nbformat_minor": 2
}
