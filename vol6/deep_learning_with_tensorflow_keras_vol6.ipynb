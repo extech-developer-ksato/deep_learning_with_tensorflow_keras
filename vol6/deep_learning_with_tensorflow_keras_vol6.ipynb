{
 "cells": [
  {
   "cell_type": "markdown",
   "metadata": {},
   "source": [
    "# Simple Recurrent Neural Network"
   ]
  },
  {
   "cell_type": "markdown",
   "metadata": {},
   "source": [
    "再帰型ニューラルネットは、音声や自然言語処理、動画といった系列データを扱うニューラルネットになります。  \n",
    "これらのデータセットは、一般に、その長さがまちまちで、そして系列内の要素の並び(文脈)に意味があることが特徴です。  \n",
    "  \n",
    "RNNは、それら特徴量をうまく抽出してくれる便利なニューラルネットになります。  \n",
    "今回は、一番簡単な再帰型ニューラルネットを紹介します。次回、応用編のLSTM(Long-Short Term Memory: 長・短期記憶)をみていきます。   "
   ]
  },
  {
   "cell_type": "markdown",
   "metadata": {},
   "source": [
    "### 系列データの分類について\n",
    "音声、ビデオ、テキスト、またそれらに付随する様な系列データは、横方向に時間軸($ 1, 2, ... , T-1, T$)があります。  \n",
    "つまり、並びに意味をもつデータになります。  \n",
    "系列データを扱う推定問題の例としては、文章が途中まで学習データとして与えられていて、  \n",
    "次の単語がどのような単語が来るかを予測(類推)する問題などがあります。  "
   ]
  },
  {
   "cell_type": "markdown",
   "metadata": {},
   "source": [
    "### RNNの構造について\n",
    "再帰型ニューラルネット(RNN)は、ニューラルネット内部に、閉路をもつ構造を持ちます。つまり、情報をグルグル更新できる構造があるわけです。  \n",
    "このおかげで、並びに意味をもつ系列データの情報を、鎖の様につなぎとめつつ、新しい情報に基づき情報を更新したり、次の鎖に情報を伝搬すること  \n",
    "が可能となります。  \n",
    "  \n",
    "情報を一時的に記憶する、という構造をニューラルネット内部に持っている、これを再帰型ニューラルネットの特徴となります。  \n",
    "これのおかげで、系列データの中にある『文脈』を捉えて、分類問題をうまく処理することが可能となります。  \n",
    "順伝搬型ニューラルネットとの違いは、ここにあります。  \n",
    "  \n",
    "順伝搬型ニューラルネットは、情報を単純に横流ししていきますが、  \n",
    "再帰型ニューラルネットは、情報を更新する層があるという理解でも構いません。  \n",
    "  \n",
    "この記憶、についてですが、一般的には、中間層に十分な数のユニットがあれば、任意の系列から系列への写像(情報の受け渡し)を、ある程度の精度で  \n",
    "近似させることが可能です。  \n",
    "  \n",
    "系列データが、全体が一括して与えられるとき(文章など)は、その系列データを逆向き($ T, T-1, T-2, ... , 1$)に、RNNに入力する場合もあります。  \n",
    "順方向と逆方向、それぞれにRNNに入力して両者の出力層を統合したものを、**双方向性RNN(Bi-directional RNN)**といいます。  \n",
    "  \n",
    "これは文章などや、固定された系列データには利用できて、順方向のRNNと比較すると、精度良く作れますが、  \n",
    "系列データが、時々刻々と与えられる様な機械翻訳などの問題を、オンラインで推定する場合には利用できません。"
   ]
  },
  {
   "cell_type": "markdown",
   "metadata": {},
   "source": [
    "### 順伝搬および逆伝搬の計算について\n",
    "補助資料で外観のイメージ理解をしたいと思います。"
   ]
  },
  {
   "cell_type": "markdown",
   "metadata": {},
   "source": [
    "### ここではおなじみのMNIST画像データを用いて、画像を\"系列データ\"とみなして、教師あり学習してみる"
   ]
  },
  {
   "cell_type": "markdown",
   "metadata": {},
   "source": [
    "**いつものおまじないインポート**  \n",
    "**numpy: Python向けの数値演算ライブラリ**  \n",
    "**matplotlib: データ可視化のためのライブラリ**"
   ]
  },
  {
   "cell_type": "code",
   "execution_count": 1,
   "metadata": {},
   "outputs": [],
   "source": [
    "import numpy as np\n",
    "import matplotlib.pyplot as plt"
   ]
  },
  {
   "cell_type": "markdown",
   "metadata": {},
   "source": [
    "**今回も手軽に, MNISTの数字画像データを用います**"
   ]
  },
  {
   "cell_type": "code",
   "execution_count": 4,
   "metadata": {},
   "outputs": [],
   "source": [
    "# kerasから\"MNIST\"(0~9の数字が描かれた画像データ)をロードする\n",
    "from keras.datasets import mnist\n",
    "(x_train, y_train), (x_test, y_test) = mnist.load_data()"
   ]
  },
  {
   "cell_type": "markdown",
   "metadata": {},
   "source": [
    "`shape` **で** `x_train` **と** `x_test` **の配列を確認**  \n",
    "28×28の画像サイズがそれぞれ、60,000枚と10,000枚あることがわかる"
   ]
  },
  {
   "cell_type": "code",
   "execution_count": 5,
   "metadata": {},
   "outputs": [
    {
     "data": {
      "text/plain": [
       "((60000, 28, 28), (10000, 28, 28))"
      ]
     },
     "execution_count": 5,
     "metadata": {},
     "output_type": "execute_result"
    }
   ],
   "source": [
    "x_train.shape, x_test.shape"
   ]
  },
  {
   "cell_type": "markdown",
   "metadata": {},
   "source": [
    "**正規化する**"
   ]
  },
  {
   "cell_type": "code",
   "execution_count": 6,
   "metadata": {},
   "outputs": [],
   "source": [
    "# 28*28の２次元配列を、784要素の1次元配列に変換する＆256階調を[0, 1]に正規化\n",
    "x_train = x_train.astype('float32') / 255\n",
    "x_test  = x_test.astype('float32') / 255"
   ]
  },
  {
   "cell_type": "markdown",
   "metadata": {},
   "source": [
    "`shape` **で正解らべる(教師ラベル)** `y_train` **と** `y_test` **の配列を確認**  \n",
    "60,000個と10,000個のラベルが用意されていることがわかる"
   ]
  },
  {
   "cell_type": "code",
   "execution_count": 7,
   "metadata": {},
   "outputs": [
    {
     "data": {
      "text/plain": [
       "((60000,), (10000,))"
      ]
     },
     "execution_count": 7,
     "metadata": {},
     "output_type": "execute_result"
    }
   ],
   "source": [
    "y_train.shape, y_test.shape"
   ]
  },
  {
   "cell_type": "markdown",
   "metadata": {},
   "source": [
    "**正解ラベルを機械学習用の one-hot ベクトルに変換するために、**  `keras.utils.np_utils` **をインポート**"
   ]
  },
  {
   "cell_type": "code",
   "execution_count": 8,
   "metadata": {},
   "outputs": [],
   "source": [
    "from keras.utils import np_utils"
   ]
  },
  {
   "cell_type": "code",
   "execution_count": 9,
   "metadata": {},
   "outputs": [],
   "source": [
    "# 0~9の数字を、10次元で表現する\n",
    "y_train_array = np_utils.to_categorical(y_train, 10)\n",
    "y_test_array  = np_utils.to_categorical(y_test, 10)"
   ]
  },
  {
   "cell_type": "markdown",
   "metadata": {},
   "source": [
    "**変換された正解ラベル(教師ラベル)** `y_train` **と** `y_test` **の配列を確認**  \n",
    "60,000×10と10,000×10のラベルが用意されていることがわかる"
   ]
  },
  {
   "cell_type": "code",
   "execution_count": 10,
   "metadata": {},
   "outputs": [
    {
     "data": {
      "text/plain": [
       "((60000, 10), (10000, 10))"
      ]
     },
     "execution_count": 10,
     "metadata": {},
     "output_type": "execute_result"
    }
   ],
   "source": [
    "y_train_array.shape, y_test_array.shape"
   ]
  },
  {
   "cell_type": "code",
   "execution_count": 21,
   "metadata": {},
   "outputs": [
    {
     "data": {
      "text/plain": [
       "array([0., 0., 0., 0., 0., 1., 0., 0., 0., 0.], dtype=float32)"
      ]
     },
     "execution_count": 21,
     "metadata": {},
     "output_type": "execute_result"
    }
   ],
   "source": [
    "# １番目のラベル\n",
    "y_train_array[0]"
   ]
  },
  {
   "cell_type": "markdown",
   "metadata": {},
   "source": [
    "**正解ラベルのone-hot ベクトルから、配列から、いちいち目視で確認は辛いので**  \n",
    "**例えば、numpyの** `where` **を用いて『0よりも大きい要素の位置を取得』でも確認できる**"
   ]
  },
  {
   "cell_type": "code",
   "execution_count": 23,
   "metadata": {},
   "outputs": [
    {
     "data": {
      "text/plain": [
       "5"
      ]
     },
     "execution_count": 23,
     "metadata": {},
     "output_type": "execute_result"
    }
   ],
   "source": [
    "np.where(y_train_array[0] > 0)[0][0]"
   ]
  },
  {
   "cell_type": "code",
   "execution_count": 22,
   "metadata": {},
   "outputs": [
    {
     "data": {
      "image/png": "[encoded data removed]",
      "text/plain": [
       "<Figure size 432x288 with 1 Axes>"
      ]
     },
     "metadata": {
      "needs_background": "light"
     },
     "output_type": "display_data"
    }
   ],
   "source": [
    "# 学習用データ0番目の画像データ可視化\n",
    "ax = plt.subplot(2, 2, 1)\n",
    "plt.imshow(x_train[0])\n",
    "#plt.gray()\n",
    "ax.get_xaxis().set_visible(False)\n",
    "ax.get_yaxis().set_visible(False)"
   ]
  },
  {
   "cell_type": "markdown",
   "metadata": {},
   "source": [
    "**ここから、** `SimpleRNN` **を用いてモデルを構築してみます。比較的簡単に作れます。**"
   ]
  },
  {
   "cell_type": "code",
   "execution_count": 11,
   "metadata": {},
   "outputs": [],
   "source": [
    "from keras.layers import SimpleRNN, Dense\n",
    "from keras.models import Model, Sequential"
   ]
  },
  {
   "cell_type": "code",
   "execution_count": 12,
   "metadata": {},
   "outputs": [],
   "source": [
    "model_SimpleRNN = Sequential()        \n",
    "model_SimpleRNN.add(SimpleRNN(128, input_shape=(28,28)))\n",
    "model_SimpleRNN.add(Dense(10, activation='softmax'))"
   ]
  },
  {
   "cell_type": "code",
   "execution_count": 13,
   "metadata": {},
   "outputs": [
    {
     "data": {
      "image/png": "[encoded data removed]",
      "text/plain": [
       "<IPython.core.display.Image object>"
      ]
     },
     "execution_count": 13,
     "metadata": {},
     "output_type": "execute_result"
    }
   ],
   "source": [
    "from keras.utils.vis_utils import plot_model\n",
    "plot_model(model_SimpleRNN, to_file=\"architecture_simplernn.png\", show_shapes=True)"
   ]
  },
  {
   "cell_type": "code",
   "execution_count": 15,
   "metadata": {},
   "outputs": [],
   "source": [
    "model_SimpleRNN.compile(optimizer='adam',\n",
    "                        loss='binary_crossentropy',\n",
    "                        metrics=['accuracy'])"
   ]
  },
  {
   "cell_type": "code",
   "execution_count": 16,
   "metadata": {},
   "outputs": [
    {
     "name": "stdout",
     "output_type": "stream",
     "text": [
      "Train on 60000 samples, validate on 10000 samples\n",
      "Epoch 1/50\n",
      "60000/60000 [==============================] - 13s 211us/step - loss: 0.0723 - accuracy: 0.9751 - val_loss: 0.0397 - val_accuracy: 0.9869\n",
      "Epoch 2/50\n",
      "60000/60000 [==============================] - 12s 195us/step - loss: 0.0354 - accuracy: 0.9883 - val_loss: 0.0382 - val_accuracy: 0.9873\n",
      "Epoch 3/50\n",
      "60000/60000 [==============================] - 12s 198us/step - loss: 0.0274 - accuracy: 0.9911 - val_loss: 0.0245 - val_accuracy: 0.9919\n",
      "Epoch 4/50\n",
      "60000/60000 [==============================] - 12s 203us/step - loss: 0.0232 - accuracy: 0.9925 - val_loss: 0.0232 - val_accuracy: 0.9927\n",
      "Epoch 5/50\n",
      "60000/60000 [==============================] - 12s 193us/step - loss: 0.0209 - accuracy: 0.9932 - val_loss: 0.0215 - val_accuracy: 0.9932\n",
      "Epoch 6/50\n",
      "60000/60000 [==============================] - 12s 193us/step - loss: 0.0187 - accuracy: 0.9939 - val_loss: 0.0211 - val_accuracy: 0.9932\n",
      "Epoch 7/50\n",
      "60000/60000 [==============================] - 12s 206us/step - loss: 0.0184 - accuracy: 0.9941 - val_loss: 0.0229 - val_accuracy: 0.9928\n",
      "Epoch 8/50\n",
      "60000/60000 [==============================] - 12s 195us/step - loss: 0.0166 - accuracy: 0.9947 - val_loss: 0.0192 - val_accuracy: 0.9942\n",
      "Epoch 9/50\n",
      "60000/60000 [==============================] - 12s 193us/step - loss: 0.0160 - accuracy: 0.9949 - val_loss: 0.0188 - val_accuracy: 0.9940\n",
      "Epoch 10/50\n",
      "60000/60000 [==============================] - 12s 195us/step - loss: 0.0155 - accuracy: 0.9950 - val_loss: 0.0203 - val_accuracy: 0.9936\n",
      "Epoch 11/50\n",
      "60000/60000 [==============================] - 12s 194us/step - loss: 0.0148 - accuracy: 0.9952 - val_loss: 0.0177 - val_accuracy: 0.9942\n",
      "Epoch 12/50\n",
      "60000/60000 [==============================] - 12s 199us/step - loss: 0.0143 - accuracy: 0.9954 - val_loss: 0.0163 - val_accuracy: 0.9948\n",
      "Epoch 13/50\n",
      "60000/60000 [==============================] - 15s 253us/step - loss: 0.0141 - accuracy: 0.9955 - val_loss: 0.0160 - val_accuracy: 0.9949\n",
      "Epoch 14/50\n",
      "60000/60000 [==============================] - 14s 227us/step - loss: 0.0136 - accuracy: 0.9957 - val_loss: 0.0160 - val_accuracy: 0.9950\n",
      "Epoch 15/50\n",
      "60000/60000 [==============================] - 12s 206us/step - loss: 0.0133 - accuracy: 0.9957 - val_loss: 0.0191 - val_accuracy: 0.9941\n",
      "Epoch 16/50\n",
      "60000/60000 [==============================] - 12s 197us/step - loss: 0.0127 - accuracy: 0.9960 - val_loss: 0.0175 - val_accuracy: 0.9945\n",
      "Epoch 17/50\n",
      "60000/60000 [==============================] - 12s 203us/step - loss: 0.0118 - accuracy: 0.9962 - val_loss: 0.0148 - val_accuracy: 0.9956\n",
      "Epoch 18/50\n",
      "60000/60000 [==============================] - 12s 198us/step - loss: 0.0124 - accuracy: 0.9960 - val_loss: 0.0171 - val_accuracy: 0.9947\n",
      "Epoch 19/50\n",
      "60000/60000 [==============================] - 12s 197us/step - loss: 0.0114 - accuracy: 0.9964 - val_loss: 0.0174 - val_accuracy: 0.9948\n",
      "Epoch 20/50\n",
      "60000/60000 [==============================] - 12s 199us/step - loss: 0.0112 - accuracy: 0.9964 - val_loss: 0.0158 - val_accuracy: 0.9952\n",
      "Epoch 21/50\n",
      "60000/60000 [==============================] - 12s 204us/step - loss: 0.0108 - accuracy: 0.9966 - val_loss: 0.0175 - val_accuracy: 0.9950\n",
      "Epoch 22/50\n",
      "60000/60000 [==============================] - 12s 201us/step - loss: 0.0107 - accuracy: 0.9966 - val_loss: 0.0164 - val_accuracy: 0.9954\n",
      "Epoch 23/50\n",
      "60000/60000 [==============================] - 12s 200us/step - loss: 0.0111 - accuracy: 0.9964 - val_loss: 0.0173 - val_accuracy: 0.9949\n",
      "Epoch 24/50\n",
      "60000/60000 [==============================] - 12s 194us/step - loss: 0.0106 - accuracy: 0.9966 - val_loss: 0.0175 - val_accuracy: 0.9951\n",
      "Epoch 25/50\n",
      "60000/60000 [==============================] - 12s 197us/step - loss: 0.0100 - accuracy: 0.9968 - val_loss: 0.0147 - val_accuracy: 0.9955\n",
      "Epoch 26/50\n",
      "60000/60000 [==============================] - 12s 202us/step - loss: 0.0101 - accuracy: 0.9968 - val_loss: 0.0151 - val_accuracy: 0.9957\n",
      "Epoch 27/50\n",
      "60000/60000 [==============================] - 12s 195us/step - loss: 0.0100 - accuracy: 0.9968 - val_loss: 0.0155 - val_accuracy: 0.9954\n",
      "Epoch 28/50\n",
      "60000/60000 [==============================] - 13s 222us/step - loss: 0.0107 - accuracy: 0.9966 - val_loss: 0.0150 - val_accuracy: 0.9956\n",
      "Epoch 29/50\n",
      "60000/60000 [==============================] - 19s 314us/step - loss: 0.0096 - accuracy: 0.9969 - val_loss: 0.0155 - val_accuracy: 0.9954\n",
      "Epoch 30/50\n",
      "60000/60000 [==============================] - 18s 296us/step - loss: 0.0091 - accuracy: 0.9971 - val_loss: 0.0156 - val_accuracy: 0.9956\n",
      "Epoch 31/50\n",
      "60000/60000 [==============================] - 14s 228us/step - loss: 0.0099 - accuracy: 0.9968 - val_loss: 0.0175 - val_accuracy: 0.9951\n",
      "Epoch 32/50\n",
      "60000/60000 [==============================] - 12s 204us/step - loss: 0.0087 - accuracy: 0.9972 - val_loss: 0.0181 - val_accuracy: 0.9946\n",
      "Epoch 33/50\n",
      "60000/60000 [==============================] - 13s 218us/step - loss: 0.0095 - accuracy: 0.9970 - val_loss: 0.0147 - val_accuracy: 0.9956\n",
      "Epoch 34/50\n",
      "60000/60000 [==============================] - 14s 230us/step - loss: 0.0093 - accuracy: 0.9970 - val_loss: 0.0174 - val_accuracy: 0.9951\n",
      "Epoch 35/50\n",
      "60000/60000 [==============================] - 13s 211us/step - loss: 0.0094 - accuracy: 0.9969 - val_loss: 0.0192 - val_accuracy: 0.9945\n",
      "Epoch 36/50\n",
      "60000/60000 [==============================] - 13s 211us/step - loss: 0.0086 - accuracy: 0.9972 - val_loss: 0.0156 - val_accuracy: 0.9953\n",
      "Epoch 37/50\n",
      "60000/60000 [==============================] - 14s 236us/step - loss: 0.0093 - accuracy: 0.9970 - val_loss: 0.0169 - val_accuracy: 0.9950\n",
      "Epoch 38/50\n",
      "60000/60000 [==============================] - 21s 348us/step - loss: 0.0100 - accuracy: 0.9968 - val_loss: 0.0180 - val_accuracy: 0.9948\n",
      "Epoch 39/50\n",
      "60000/60000 [==============================] - 13s 219us/step - loss: 0.0093 - accuracy: 0.9970 - val_loss: 0.0160 - val_accuracy: 0.9952\n",
      "Epoch 40/50\n",
      "60000/60000 [==============================] - 12s 197us/step - loss: 0.0108 - accuracy: 0.9966 - val_loss: 0.0175 - val_accuracy: 0.9949\n",
      "Epoch 41/50\n",
      "60000/60000 [==============================] - 12s 207us/step - loss: 0.0090 - accuracy: 0.9972 - val_loss: 0.0172 - val_accuracy: 0.9950\n",
      "Epoch 42/50\n",
      "60000/60000 [==============================] - 12s 198us/step - loss: 0.0085 - accuracy: 0.9973 - val_loss: 0.0165 - val_accuracy: 0.9956\n",
      "Epoch 43/50\n",
      "60000/60000 [==============================] - 13s 212us/step - loss: 0.0085 - accuracy: 0.9973 - val_loss: 0.0144 - val_accuracy: 0.9960\n",
      "Epoch 44/50\n",
      "60000/60000 [==============================] - 15s 243us/step - loss: 0.0082 - accuracy: 0.9973 - val_loss: 0.0165 - val_accuracy: 0.9955\n",
      "Epoch 45/50\n",
      "60000/60000 [==============================] - 12s 208us/step - loss: 0.0089 - accuracy: 0.9971 - val_loss: 0.0145 - val_accuracy: 0.9962\n",
      "Epoch 46/50\n",
      "60000/60000 [==============================] - 15s 248us/step - loss: 0.0088 - accuracy: 0.9973 - val_loss: 0.0208 - val_accuracy: 0.9940\n",
      "Epoch 47/50\n",
      "60000/60000 [==============================] - 13s 211us/step - loss: 0.0091 - accuracy: 0.9971 - val_loss: 0.0156 - val_accuracy: 0.9954\n",
      "Epoch 48/50\n",
      "60000/60000 [==============================] - 18s 301us/step - loss: 0.0079 - accuracy: 0.9975 - val_loss: 0.0133 - val_accuracy: 0.9964\n",
      "Epoch 49/50\n",
      "60000/60000 [==============================] - 14s 233us/step - loss: 0.0087 - accuracy: 0.9972 - val_loss: 0.0195 - val_accuracy: 0.9943\n",
      "Epoch 50/50\n",
      "60000/60000 [==============================] - 12s 205us/step - loss: 0.0085 - accuracy: 0.9974 - val_loss: 0.0175 - val_accuracy: 0.9950\n"
     ]
    }
   ],
   "source": [
    "his = model_SimpleRNN.fit(x_train, y_train_array,\n",
    "                          epochs=50,\n",
    "                          batch_size=128,\n",
    "                          shuffle=True,\n",
    "                          validation_data=(x_test, y_test_array))"
   ]
  },
  {
   "cell_type": "code",
   "execution_count": 17,
   "metadata": {},
   "outputs": [
    {
     "data": {
      "image/png": "[encoded data removed]",
      "text/plain": [
       "<Figure size 432x288 with 1 Axes>"
      ]
     },
     "metadata": {
      "needs_background": "light"
     },
     "output_type": "display_data"
    }
   ],
   "source": [
    "loss = his.history['loss']\n",
    "val_loss = his.history['val_loss']\n",
    "\n",
    "nb_epoch = len(loss)\n",
    "plt.plot(range(nb_epoch), loss, marker='.', label='loss')\n",
    "plt.plot(range(nb_epoch), val_loss, marker='.', label='val_loss')\n",
    "plt.legend(loc='best', fontsize=10)\n",
    "plt.grid()\n",
    "plt.xlabel('epoch')\n",
    "plt.ylabel('loss')\n",
    "plt.show()"
   ]
  },
  {
   "cell_type": "markdown",
   "metadata": {},
   "source": [
    "**後半過学習してるみたいです。。。Early Stopping(学習の早期打ち切り)してもよかったですね。**  \n",
    "スコア(モデル性能)はどんなものか確認してみます。"
   ]
  },
  {
   "cell_type": "code",
   "execution_count": 19,
   "metadata": {},
   "outputs": [
    {
     "name": "stdout",
     "output_type": "stream",
     "text": [
      "Test loss : 0.017532821795297786\n",
      "Test accuracy : 0.9950292706489563\n"
     ]
    }
   ],
   "source": [
    "# 評価\n",
    "score = model_SimpleRNN.evaluate(x_test, y_test_array, verbose=0)\n",
    "print('Test loss :', score[0])\n",
    "print('Test accuracy :', score[1])"
   ]
  },
  {
   "cell_type": "markdown",
   "metadata": {},
   "source": [
    "**予測させるときの入力データの形に気をつけてください。**  \n",
    "単純に、`(28, 28)` の画像データを `.predict()` しても、エラーをはきます。  \n",
    "配列の形は、この場合、`(1, 28, 28)`になっていることに気をつけてください。"
   ]
  },
  {
   "cell_type": "code",
   "execution_count": 26,
   "metadata": {},
   "outputs": [],
   "source": [
    "pred = model_SimpleRNN.predict(x_test[1500].reshape(1, x_test.shape[1], x_test.shape[2]))"
   ]
  },
  {
   "cell_type": "code",
   "execution_count": 28,
   "metadata": {},
   "outputs": [
    {
     "name": "stdout",
     "output_type": "stream",
     "text": [
      "(28, 28)\n",
      "(1, 28, 28)\n"
     ]
    }
   ],
   "source": [
    "print(x_test[1500].shape)\n",
    "print(x_test[1500].reshape(1, x_test.shape[1], x_test.shape[2]).shape)"
   ]
  },
  {
   "cell_type": "code",
   "execution_count": 29,
   "metadata": {},
   "outputs": [
    {
     "data": {
      "text/plain": [
       "array([[1.4461632e-03, 3.5284430e-02, 2.2971644e-03, 1.1183526e-03,\n",
       "        1.6589209e-03, 2.5302950e-05, 4.6961643e-05, 9.4953477e-01,\n",
       "        6.9901384e-03, 1.5976904e-03]], dtype=float32)"
      ]
     },
     "execution_count": 29,
     "metadata": {},
     "output_type": "execute_result"
    }
   ],
   "source": [
    "pred"
   ]
  },
  {
   "cell_type": "markdown",
   "metadata": {},
   "source": [
    "`array` **配列に格納されているものは、『どの数字に当てはまるか？』の確率値(浮動小数点)が入ってます。  \n",
    "仮に言うならば、\"信頼度\" なるものでしょうか。したがって、当てはまる数字の高いものを選ぶべきで、例えば、\"50%=0.5\"を基準にすれば**  \n",
    "先ほどの、numpyの`where`を使って"
   ]
  },
  {
   "cell_type": "code",
   "execution_count": 30,
   "metadata": {},
   "outputs": [
    {
     "data": {
      "text/plain": [
       "7"
      ]
     },
     "execution_count": 30,
     "metadata": {},
     "output_type": "execute_result"
    }
   ],
   "source": [
    "np.where(pred[0] > 0.5)[0][0]"
   ]
  },
  {
   "cell_type": "markdown",
   "metadata": {},
   "source": [
    "**本当に、数字の7かどうかを調べます**  "
   ]
  },
  {
   "cell_type": "code",
   "execution_count": 32,
   "metadata": {},
   "outputs": [
    {
     "data": {
      "text/plain": [
       "7"
      ]
     },
     "execution_count": 32,
     "metadata": {},
     "output_type": "execute_result"
    }
   ],
   "source": [
    "y_test[1500]"
   ]
  },
  {
   "cell_type": "code",
   "execution_count": 31,
   "metadata": {},
   "outputs": [
    {
     "data": {
      "image/png": "[encoded data removed]",
      "text/plain": [
       "<Figure size 432x288 with 1 Axes>"
      ]
     },
     "metadata": {
      "needs_background": "light"
     },
     "output_type": "display_data"
    }
   ],
   "source": [
    "ax = plt.subplot(2, 2, 1)\n",
    "plt.imshow(x_test[1500])\n",
    "#plt.gray()\n",
    "ax.get_xaxis().set_visible(False)\n",
    "ax.get_yaxis().set_visible(False)"
   ]
  },
  {
   "cell_type": "markdown",
   "metadata": {},
   "source": [
    "**私は。。。数字\"3\"に見えますが、あの特殊な、７の書き方なんでしょうね。面白いデータを見つけましたw**"
   ]
  },
  {
   "cell_type": "markdown",
   "metadata": {},
   "source": [
    "**その他、参考となる記事のご紹介...(足りないところは、こちらの記事で補っていただけると幸いです)**  \n",
    "**[cvusk氏のQiita記事 ディープラーニングで音声分類](https://qiita.com/cvusk/items/61cdbce80785eaf28349)**  \n",
    "**[AGIRobots 単純再帰型ニューラルネットワークで正弦波を学習させる](https://agirobots.com/blog-ai-ml-research-sin-simplernn/)**"
   ]
  }
 ],
 "metadata": {
  "kernelspec": {
   "display_name": "Python 3",
   "language": "python",
   "name": "python3"
  },
  "language_info": {
   "codemirror_mode": {
    "name": "ipython",
    "version": 3
   },
   "file_extension": ".py",
   "mimetype": "text/x-python",
   "name": "python",
   "nbconvert_exporter": "python",
   "pygments_lexer": "ipython3",
   "version": "3.6.5"
  }
 },
 "nbformat": 4,
 "nbformat_minor": 2
}
